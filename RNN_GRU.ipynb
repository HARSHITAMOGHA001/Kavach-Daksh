{
  "nbformat": 4,
  "nbformat_minor": 0,
  "metadata": {
    "colab": {
      "provenance": [],
      "include_colab_link": true
    },
    "kernelspec": {
      "name": "python3",
      "display_name": "Python 3"
    },
    "language_info": {
      "name": "python"
    }
  },
  "cells": [
    {
      "cell_type": "markdown",
      "metadata": {
        "id": "view-in-github",
        "colab_type": "text"
      },
      "source": [
        "<a href=\"https://colab.research.google.com/github/HARSHITAMOGHA001/Kavach-Daksh/blob/main/RNN_GRU.ipynb\" target=\"_parent\"><img src=\"https://colab.research.google.com/assets/colab-badge.svg\" alt=\"Open In Colab\"/></a>"
      ]
    },
    {
      "cell_type": "code",
      "source": [
        "import numpy as np\n",
        "import tensorflow as tf\n",
        "import matplotlib.pyplot as plt\n",
        "import seaborn as sns\n",
        "from sklearn.feature_selection import mutual_info_classif\n",
        "from tensorflow.keras.models import Sequential\n",
        "from tensorflow.keras.layers import GRU, Dense, Dropout\n",
        "from sklearn.model_selection import train_test_split\n",
        "import pandas as pd\n",
        "from sklearn.preprocessing import StandardScaler\n",
        "import pickle"
      ],
      "metadata": {
        "id": "EKRGsIc10r9k"
      },
      "execution_count": null,
      "outputs": []
    },
    {
      "cell_type": "code",
      "source": [
        "data = pd.read_csv('NewData.csv')"
      ],
      "metadata": {
        "id": "sJW36Icb0wat"
      },
      "execution_count": null,
      "outputs": []
    },
    {
      "cell_type": "code",
      "source": [
        "data.shape"
      ],
      "metadata": {
        "colab": {
          "base_uri": "https://localhost:8080/"
        },
        "id": "H64dqO6Z0zkF",
        "outputId": "6169f2a1-0e62-42e7-f0b8-925659da996f"
      },
      "execution_count": null,
      "outputs": [
        {
          "output_type": "execute_result",
          "data": {
            "text/plain": [
              "(10000, 50)"
            ]
          },
          "metadata": {},
          "execution_count": 103
        }
      ]
    },
    {
      "cell_type": "code",
      "source": [
        "data.info()"
      ],
      "metadata": {
        "colab": {
          "base_uri": "https://localhost:8080/"
        },
        "id": "J5OdmZlU04qT",
        "outputId": "1e1be7e1-496a-4cab-dd0f-c791c4db22ef"
      },
      "execution_count": null,
      "outputs": [
        {
          "output_type": "stream",
          "name": "stdout",
          "text": [
            "<class 'pandas.core.frame.DataFrame'>\n",
            "RangeIndex: 10000 entries, 0 to 9999\n",
            "Data columns (total 50 columns):\n",
            " #   Column                              Non-Null Count  Dtype  \n",
            "---  ------                              --------------  -----  \n",
            " 0   id                                  10000 non-null  int64  \n",
            " 1   NumDots                             10000 non-null  int64  \n",
            " 2   SubdomainLevel                      10000 non-null  int64  \n",
            " 3   PathLevel                           10000 non-null  int64  \n",
            " 4   UrlLength                           10000 non-null  int64  \n",
            " 5   NumDash                             10000 non-null  int64  \n",
            " 6   NumDashInHostname                   10000 non-null  int64  \n",
            " 7   AtSymbol                            10000 non-null  int64  \n",
            " 8   TildeSymbol                         10000 non-null  int64  \n",
            " 9   NumUnderscore                       10000 non-null  int64  \n",
            " 10  NumPercent                          10000 non-null  int64  \n",
            " 11  NumQueryComponents                  10000 non-null  int64  \n",
            " 12  NumAmpersand                        10000 non-null  int64  \n",
            " 13  NumHash                             10000 non-null  int64  \n",
            " 14  NumNumericChars                     10000 non-null  int64  \n",
            " 15  NoHttps                             10000 non-null  int64  \n",
            " 16  RandomString                        10000 non-null  int64  \n",
            " 17  IpAddress                           10000 non-null  int64  \n",
            " 18  DomainInSubdomains                  10000 non-null  int64  \n",
            " 19  DomainInPaths                       10000 non-null  int64  \n",
            " 20  HttpsInHostname                     10000 non-null  int64  \n",
            " 21  HostnameLength                      10000 non-null  int64  \n",
            " 22  PathLength                          10000 non-null  int64  \n",
            " 23  QueryLength                         10000 non-null  int64  \n",
            " 24  DoubleSlashInPath                   10000 non-null  int64  \n",
            " 25  NumSensitiveWords                   10000 non-null  int64  \n",
            " 26  EmbeddedBrandName                   10000 non-null  int64  \n",
            " 27  PctExtHyperlinks                    10000 non-null  float64\n",
            " 28  PctExtResourceUrls                  10000 non-null  float64\n",
            " 29  ExtFavicon                          10000 non-null  int64  \n",
            " 30  InsecureForms                       10000 non-null  int64  \n",
            " 31  RelativeFormAction                  10000 non-null  int64  \n",
            " 32  ExtFormAction                       10000 non-null  int64  \n",
            " 33  AbnormalFormAction                  10000 non-null  int64  \n",
            " 34  PctNullSelfRedirectHyperlinks       10000 non-null  float64\n",
            " 35  FrequentDomainNameMismatch          10000 non-null  int64  \n",
            " 36  FakeLinkInStatusBar                 10000 non-null  int64  \n",
            " 37  RightClickDisabled                  10000 non-null  int64  \n",
            " 38  PopUpWindow                         10000 non-null  int64  \n",
            " 39  SubmitInfoToEmail                   10000 non-null  int64  \n",
            " 40  IframeOrFrame                       10000 non-null  int64  \n",
            " 41  MissingTitle                        10000 non-null  int64  \n",
            " 42  ImagesOnlyInForm                    10000 non-null  int64  \n",
            " 43  SubdomainLevelRT                    10000 non-null  int64  \n",
            " 44  UrlLengthRT                         10000 non-null  int64  \n",
            " 45  PctExtResourceUrlsRT                10000 non-null  int64  \n",
            " 46  AbnormalExtFormActionR              10000 non-null  int64  \n",
            " 47  ExtMetaScriptLinkRT                 10000 non-null  int64  \n",
            " 48  PctExtNullSelfRedirectHyperlinksRT  10000 non-null  int64  \n",
            " 49  CLASS_LABEL                         10000 non-null  int64  \n",
            "dtypes: float64(3), int64(47)\n",
            "memory usage: 3.8 MB\n"
          ]
        }
      ]
    },
    {
      "cell_type": "code",
      "source": [
        "data['CLASS_LABEL'].value_counts().plot.bar(color='blue')"
      ],
      "metadata": {
        "colab": {
          "base_uri": "https://localhost:8080/",
          "height": 442
        },
        "id": "0cFcrgDp2njA",
        "outputId": "1fba63fd-05e8-43b2-b1b1-0d89b069e745"
      },
      "execution_count": null,
      "outputs": [
        {
          "output_type": "execute_result",
          "data": {
            "text/plain": [
              "<Axes: >"
            ]
          },
          "metadata": {},
          "execution_count": 105
        },
        {
          "output_type": "display_data",
          "data": {
            "text/plain": [
              "<Figure size 640x480 with 1 Axes>"
            ],
            "image/png": "[encoded data removed]"
          },
          "metadata": {}
        }
      ]
    },
    {
      "cell_type": "code",
      "source": [
        "X = data.drop(columns=['id', 'CLASS_LABEL','SubdomainLevelRT','UrlLengthRT','PctExtResourceUrlsRT','Abnormal                                                                                                                              ExtFormActionR','ExtMetaScriptLinkRT','PctExtNullSelfRedirectHyperlinksRT'])\n",
        "y = data['CLASS_LABEL']\n",
        "print('x:', X)\n",
        "print('y:', y)"
      ],
      "metadata": {
        "colab": {
          "base_uri": "https://localhost:8080/"
        },
        "id": "pjhseFC_09Xw",
        "outputId": "a7d38f63-7365-47d9-b005-2d9c5207a9ca"
      },
      "execution_count": null,
      "outputs": [
        {
          "output_type": "stream",
          "name": "stdout",
          "text": [
            "x:       NumDots  SubdomainLevel  PathLevel  UrlLength  NumDash  \\\n",
            "0           3               1          5         72        0   \n",
            "1           3               1          3        144        0   \n",
            "2           3               1          2         58        0   \n",
            "3           3               1          6         79        1   \n",
            "4           3               0          4         46        0   \n",
            "...       ...             ...        ...        ...      ...   \n",
            "9995        3               1          1         50        0   \n",
            "9996        2               1          4         59        1   \n",
            "9997        2               1          4         57        0   \n",
            "9998        3               1          1         49        0   \n",
            "9999        3               1          2         52        3   \n",
            "\n",
            "      NumDashInHostname  AtSymbol  TildeSymbol  NumUnderscore  NumPercent  \\\n",
            "0                     0         0            0              0           0   \n",
            "1                     0         0            0              2           0   \n",
            "2                     0         0            0              0           0   \n",
            "3                     0         0            0              0           0   \n",
            "4                     0         0            0              0           0   \n",
            "...                 ...       ...          ...            ...         ...   \n",
            "9995                  0         0            0              0           0   \n",
            "9996                  0         0            0              0           0   \n",
            "9997                  0         0            0              0           0   \n",
            "9998                  0         0            0              0           0   \n",
            "9999                  0         0            0              0           0   \n",
            "\n",
            "      ...  AbnormalFormAction  PctNullSelfRedirectHyperlinks  \\\n",
            "0     ...                   0                       0.000000   \n",
            "1     ...                   0                       0.000000   \n",
            "2     ...                   0                       0.000000   \n",
            "3     ...                   0                       0.000000   \n",
            "4     ...                   0                       0.000000   \n",
            "...   ...                 ...                            ...   \n",
            "9995  ...                   0                       0.000000   \n",
            "9996  ...                   0                       0.129032   \n",
            "9997  ...                   0                       0.056338   \n",
            "9998  ...                   0                       0.000000   \n",
            "9999  ...                   0                       0.004717   \n",
            "\n",
            "      FrequentDomainNameMismatch  FakeLinkInStatusBar  RightClickDisabled  \\\n",
            "0                              0                    0                   0   \n",
            "1                              0                    0                   0   \n",
            "2                              0                    0                   0   \n",
            "3                              1                    0                   0   \n",
            "4                              1                    0                   0   \n",
            "...                          ...                  ...                 ...   \n",
            "9995                           0                    0                   0   \n",
            "9996                           0                    0                   0   \n",
            "9997                           0                    0                   0   \n",
            "9998                           0                    0                   0   \n",
            "9999                           0                    0                   0   \n",
            "\n",
            "      PopUpWindow  SubmitInfoToEmail  IframeOrFrame  MissingTitle  \\\n",
            "0               0                  0              0             0   \n",
            "1               0                  0              0             0   \n",
            "2               0                  0              0             0   \n",
            "3               0                  1              0             0   \n",
            "4               0                  0              1             0   \n",
            "...           ...                ...            ...           ...   \n",
            "9995            0                  0              0             0   \n",
            "9996            0                  0              1             0   \n",
            "9997            0                  0              0             0   \n",
            "9998            0                  0              1             0   \n",
            "9999            0                  0              0             0   \n",
            "\n",
            "      ImagesOnlyInForm  \n",
            "0                    1  \n",
            "1                    0  \n",
            "2                    0  \n",
            "3                    0  \n",
            "4                    0  \n",
            "...                ...  \n",
            "9995                 0  \n",
            "9996                 0  \n",
            "9997                 0  \n",
            "9998                 0  \n",
            "9999                 0  \n",
            "\n",
            "[10000 rows x 42 columns]\n",
            "y: 0       1\n",
            "1       1\n",
            "2       1\n",
            "3       1\n",
            "4       1\n",
            "       ..\n",
            "9995    0\n",
            "9996    0\n",
            "9997    0\n",
            "9998    0\n",
            "9999    0\n",
            "Name: CLASS_LABEL, Length: 10000, dtype: int64\n"
          ]
        }
      ]
    },
    {
      "cell_type": "code",
      "source": [
        "scaler = StandardScaler()\n",
        "X = scaler.fit_transform(X)"
      ],
      "metadata": {
        "id": "fZpLsWW01EWj"
      },
      "execution_count": null,
      "outputs": []
    },
    {
      "cell_type": "code",
      "source": [
        "X_train, X_test, y_train, y_test = train_test_split(X, y, test_size=0.2, random_state=42)"
      ],
      "metadata": {
        "id": "ZucPOMe31H-Z"
      },
      "execution_count": null,
      "outputs": []
    },
    {
      "cell_type": "code",
      "source": [
        "model = Sequential([\n",
        "    GRU(64, return_sequences=True, input_shape=(X_train.shape[1], 1)),\n",
        "    Dropout(0.2),\n",
        "    GRU(64),\n",
        "    Dropout(0.2),\n",
        "    Dense(32, activation='relu'),\n",
        "    Dense(1, activation='sigmoid')  # Output layer for binary classification\n",
        "])"
      ],
      "metadata": {
        "id": "78VpQYsU1OU5"
      },
      "execution_count": null,
      "outputs": []
    },
    {
      "cell_type": "code",
      "source": [
        "model.compile(loss='binary_crossentropy', optimizer='adam', metrics=['accuracy'])"
      ],
      "metadata": {
        "id": "0VkzOlQn1UOp"
      },
      "execution_count": null,
      "outputs": []
    },
    {
      "cell_type": "code",
      "source": [
        "model.summary()"
      ],
      "metadata": {
        "colab": {
          "base_uri": "https://localhost:8080/"
        },
        "id": "OdEgdhmg1Xuq",
        "outputId": "c2334416-95bd-4297-a030-f1cf8ae757b8"
      },
      "execution_count": null,
      "outputs": [
        {
          "output_type": "stream",
          "name": "stdout",
          "text": [
            "Model: \"sequential_4\"\n",
            "_________________________________________________________________\n",
            " Layer (type)                Output Shape              Param #   \n",
            "=================================================================\n",
            " gru_8 (GRU)                 (None, 42, 64)            12864     \n",
            "                                                                 \n",
            " dropout_8 (Dropout)         (None, 42, 64)            0         \n",
            "                                                                 \n",
            " gru_9 (GRU)                 (None, 64)                24960     \n",
            "                                                                 \n",
            " dropout_9 (Dropout)         (None, 64)                0         \n",
            "                                                                 \n",
            " dense_6 (Dense)             (None, 32)                2080      \n",
            "                                                                 \n",
            " dense_7 (Dense)             (None, 1)                 33        \n",
            "                                                                 \n",
            "=================================================================\n",
            "Total params: 39,937\n",
            "Trainable params: 39,937\n",
            "Non-trainable params: 0\n",
            "_________________________________________________________________\n"
          ]
        }
      ]
    },
    {
      "cell_type": "code",
      "source": [
        "X_train_reshaped = X_train.reshape(X_train.shape[0], X_train.shape[1], 1)\n",
        "X_test_reshaped = X_test.reshape(X_test.shape[0], X_test.shape[1], 1)"
      ],
      "metadata": {
        "id": "pPsKdaKa1cub"
      },
      "execution_count": null,
      "outputs": []
    },
    {
      "cell_type": "code",
      "source": [
        "history = model.fit(X_train_reshaped, y_train, batch_size=64, epochs=30, validation_data=(X_test_reshaped, y_test))"
      ],
      "metadata": {
        "colab": {
          "base_uri": "https://localhost:8080/"
        },
        "id": "ej_UXS3b1d53",
        "outputId": "d54ec25f-2ea6-484e-f357-2f5c185a54be"
      },
      "execution_count": null,
      "outputs": [
        {
          "output_type": "stream",
          "name": "stdout",
          "text": [
            "Epoch 1/30\n",
            "125/125 [==============================] - 14s 78ms/step - loss: 0.5137 - accuracy: 0.7256 - val_loss: 0.3745 - val_accuracy: 0.8245\n",
            "Epoch 2/30\n",
            "125/125 [==============================] - 10s 76ms/step - loss: 0.3543 - accuracy: 0.8382 - val_loss: 0.3302 - val_accuracy: 0.8570\n",
            "Epoch 3/30\n",
            "125/125 [==============================] - 10s 81ms/step - loss: 0.2926 - accuracy: 0.8752 - val_loss: 0.2714 - val_accuracy: 0.8865\n",
            "Epoch 4/30\n",
            "125/125 [==============================] - 10s 80ms/step - loss: 0.2623 - accuracy: 0.8936 - val_loss: 0.2504 - val_accuracy: 0.8960\n",
            "Epoch 5/30\n",
            "125/125 [==============================] - 9s 70ms/step - loss: 0.2500 - accuracy: 0.9032 - val_loss: 0.2432 - val_accuracy: 0.9010\n",
            "Epoch 6/30\n",
            "125/125 [==============================] - 10s 79ms/step - loss: 0.2325 - accuracy: 0.9119 - val_loss: 0.2268 - val_accuracy: 0.9085\n",
            "Epoch 7/30\n",
            "125/125 [==============================] - 10s 84ms/step - loss: 0.2286 - accuracy: 0.9143 - val_loss: 0.2164 - val_accuracy: 0.9090\n",
            "Epoch 8/30\n",
            "125/125 [==============================] - 10s 79ms/step - loss: 0.2100 - accuracy: 0.9230 - val_loss: 0.2200 - val_accuracy: 0.9135\n",
            "Epoch 9/30\n",
            "125/125 [==============================] - 9s 75ms/step - loss: 0.2038 - accuracy: 0.9256 - val_loss: 0.2054 - val_accuracy: 0.9165\n",
            "Epoch 10/30\n",
            "125/125 [==============================] - 9s 69ms/step - loss: 0.1962 - accuracy: 0.9252 - val_loss: 0.1828 - val_accuracy: 0.9255\n",
            "Epoch 11/30\n",
            "125/125 [==============================] - 10s 81ms/step - loss: 0.1826 - accuracy: 0.9319 - val_loss: 0.1773 - val_accuracy: 0.9270\n",
            "Epoch 12/30\n",
            "125/125 [==============================] - 11s 90ms/step - loss: 0.1756 - accuracy: 0.9333 - val_loss: 0.1966 - val_accuracy: 0.9255\n",
            "Epoch 13/30\n",
            "125/125 [==============================] - 9s 72ms/step - loss: 0.1731 - accuracy: 0.9346 - val_loss: 0.1665 - val_accuracy: 0.9360\n",
            "Epoch 14/30\n",
            "125/125 [==============================] - 8s 67ms/step - loss: 0.1613 - accuracy: 0.9359 - val_loss: 0.1536 - val_accuracy: 0.9370\n",
            "Epoch 15/30\n",
            "125/125 [==============================] - 10s 79ms/step - loss: 0.1515 - accuracy: 0.9433 - val_loss: 0.1540 - val_accuracy: 0.9370\n",
            "Epoch 16/30\n",
            "125/125 [==============================] - 10s 79ms/step - loss: 0.1456 - accuracy: 0.9431 - val_loss: 0.1507 - val_accuracy: 0.9370\n",
            "Epoch 17/30\n",
            "125/125 [==============================] - 9s 70ms/step - loss: 0.1394 - accuracy: 0.9474 - val_loss: 0.1734 - val_accuracy: 0.9260\n",
            "Epoch 18/30\n",
            "125/125 [==============================] - 10s 81ms/step - loss: 0.1363 - accuracy: 0.9475 - val_loss: 0.1371 - val_accuracy: 0.9445\n",
            "Epoch 19/30\n",
            "125/125 [==============================] - 10s 79ms/step - loss: 0.1269 - accuracy: 0.9500 - val_loss: 0.1357 - val_accuracy: 0.9440\n",
            "Epoch 20/30\n",
            "125/125 [==============================] - 9s 74ms/step - loss: 0.1259 - accuracy: 0.9503 - val_loss: 0.1350 - val_accuracy: 0.9445\n",
            "Epoch 21/30\n",
            "125/125 [==============================] - 9s 71ms/step - loss: 0.1186 - accuracy: 0.9539 - val_loss: 0.1374 - val_accuracy: 0.9455\n",
            "Epoch 22/30\n",
            "125/125 [==============================] - 10s 79ms/step - loss: 0.1169 - accuracy: 0.9548 - val_loss: 0.1357 - val_accuracy: 0.9485\n",
            "Epoch 23/30\n",
            "125/125 [==============================] - 10s 79ms/step - loss: 0.1126 - accuracy: 0.9571 - val_loss: 0.1251 - val_accuracy: 0.9495\n",
            "Epoch 24/30\n",
            "125/125 [==============================] - 9s 72ms/step - loss: 0.1043 - accuracy: 0.9609 - val_loss: 0.1353 - val_accuracy: 0.9500\n",
            "Epoch 25/30\n",
            "125/125 [==============================] - 9s 68ms/step - loss: 0.1055 - accuracy: 0.9579 - val_loss: 0.1271 - val_accuracy: 0.9510\n",
            "Epoch 26/30\n",
            "125/125 [==============================] - 10s 80ms/step - loss: 0.1036 - accuracy: 0.9588 - val_loss: 0.1341 - val_accuracy: 0.9505\n",
            "Epoch 27/30\n",
            "125/125 [==============================] - 11s 88ms/step - loss: 0.1004 - accuracy: 0.9620 - val_loss: 0.1202 - val_accuracy: 0.9520\n",
            "Epoch 28/30\n",
            "125/125 [==============================] - 9s 71ms/step - loss: 0.0922 - accuracy: 0.9636 - val_loss: 0.1218 - val_accuracy: 0.9565\n",
            "Epoch 29/30\n",
            "125/125 [==============================] - 9s 70ms/step - loss: 0.0905 - accuracy: 0.9666 - val_loss: 0.1222 - val_accuracy: 0.9555\n",
            "Epoch 30/30\n",
            "125/125 [==============================] - 9s 74ms/step - loss: 0.0893 - accuracy: 0.9661 - val_loss: 0.1288 - val_accuracy: 0.9545\n"
          ]
        }
      ]
    },
    {
      "cell_type": "code",
      "source": [
        "loss, accuracy = model.evaluate(X_test_reshaped, y_test)\n",
        "print(f\"Test Loss: {loss:.4f}, Test Accuracy: {accuracy:.4f}\")"
      ],
      "metadata": {
        "colab": {
          "base_uri": "https://localhost:8080/"
        },
        "id": "hjBzoVZl1hrD",
        "outputId": "2fcfeb03-5cd8-4148-bb7a-2a2d93cf9f53"
      },
      "execution_count": null,
      "outputs": [
        {
          "output_type": "stream",
          "name": "stdout",
          "text": [
            "63/63 [==============================] - 1s 17ms/step - loss: 0.1288 - accuracy: 0.9545\n",
            "Test Loss: 0.1288, Test Accuracy: 0.9545\n"
          ]
        }
      ]
    },
    {
      "cell_type": "code",
      "source": [
        "X_test_reshaped = X_test.reshape(X_test.shape[0], X_test.shape[1], 1)"
      ],
      "metadata": {
        "id": "NVD7GmAz6lxE"
      },
      "execution_count": null,
      "outputs": []
    },
    {
      "cell_type": "code",
      "source": [
        "from sklearn.metrics import precision_score, accuracy_score,recall_score,f1_score\n",
        "y_pred = model.predict(X_test_reshaped)\n",
        "y_pred = np.round(y_pred)\n",
        "\n",
        "accuracy = accuracy_score(y_test, y_pred)\n",
        "precision = precision_score(y_test, y_pred)\n",
        "recall = recall_score(y_test, y_pred)\n",
        "f1 = f1_score(y_test, y_pred)\n",
        "\n",
        "data = {'num_of_features': [X_test.shape[1]],\n",
        "        'precision': [precision],\n",
        "        'recall': [recall],\n",
        "        'f1_score': [f1],\n",
        "        'accuracy': [accuracy]}\n",
        "\n",
        "df = pd.DataFrame(data)\n",
        "\n",
        "print(df)"
      ],
      "metadata": {
        "colab": {
          "base_uri": "https://localhost:8080/"
        },
        "id": "sPZua2Lf6tj2",
        "outputId": "cb26b749-578e-433a-8281-e6a44033b962"
      },
      "execution_count": null,
      "outputs": [
        {
          "output_type": "stream",
          "name": "stdout",
          "text": [
            "63/63 [==============================] - 2s 16ms/step\n",
            "   num_of_features  precision    recall  f1_score  accuracy\n",
            "0               42   0.951914  0.958498  0.955194    0.9545\n"
          ]
        }
      ]
    },
    {
      "cell_type": "code",
      "source": [
        "size_of_test_data = len(X_test_reshaped)\n",
        "print(\"Size of test data:\", size_of_test_data)"
      ],
      "metadata": {
        "colab": {
          "base_uri": "https://localhost:8080/"
        },
        "id": "4-sWUrPAz___",
        "outputId": "c2bca588-b6c7-48d4-d687-00ab1a85eb37"
      },
      "execution_count": null,
      "outputs": [
        {
          "output_type": "stream",
          "name": "stdout",
          "text": [
            "Size of test data: 2000\n"
          ]
        }
      ]
    },
    {
      "cell_type": "code",
      "source": [
        "total_elements = X_test_reshaped.size\n",
        "print(\"Total elements in test data:\", total_elements)"
      ],
      "metadata": {
        "colab": {
          "base_uri": "https://localhost:8080/"
        },
        "id": "u3o9BwjW0UGM",
        "outputId": "d5a620ab-ec15-4549-841c-1e7083dfe74d"
      },
      "execution_count": null,
      "outputs": [
        {
          "output_type": "stream",
          "name": "stdout",
          "text": [
            "Total elements in test data: 84000\n"
          ]
        }
      ]
    },
    {
      "cell_type": "code",
      "source": [
        "with open('rnn_gru_model.pkl', 'wb') as file:\n",
        "    pickle.dump(model, file)\n",
        "\n",
        "with open('rnn_gru_model.pkl', 'rb') as file:\n",
        "    loaded_model = pickle.load(file)\n",
        "\n",
        "y_pred_loaded = loaded_model.predict(X_test_reshaped)\n",
        "y_pred_loaded = np.round(y_pred_loaded)"
      ],
      "metadata": {
        "colab": {
          "base_uri": "https://localhost:8080/"
        },
        "id": "ViP_brM6bz_j",
        "outputId": "e4e77a5e-1ea1-4980-dc86-ec23d3ab8fcd"
      },
      "execution_count": null,
      "outputs": [
        {
          "output_type": "stream",
          "name": "stdout",
          "text": [
            "63/63 [==============================] - 2s 16ms/step\n"
          ]
        }
      ]
    },
    {
      "cell_type": "code",
      "source": [
        "\n",
        "predictions = model.predict(X_test_reshaped)\n",
        "\n",
        "binary_predictions = [(1 if prediction[0] >= 0.5 else 0) for prediction in predictions]\n",
        "\n",
        "print(binary_predictions)"
      ],
      "metadata": {
        "colab": {
          "base_uri": "https://localhost:8080/"
        },
        "id": "iCdIzArGWHT5",
        "outputId": "4232764f-32c8-4c3f-ee63-db5e1ad06333"
      },
      "execution_count": null,
      "outputs": [
        {
          "output_type": "stream",
          "name": "stdout",
          "text": [
            "63/63 [==============================] - 1s 16ms/step\n",
            "[0, 1, 1, 1, 1, 0, 1, 0, 0, 1, 1, 0, 0, 0, 1, 0, 1, 0, 0, 0, 0, 1, 1, 0, 1, 0, 1, 0, 0, 0, 1, 1, 1, 1, 0, 1, 0, 1, 1, 0, 0, 1, 0, 1, 0, 1, 1, 1, 1, 1, 1, 0, 1, 0, 1, 0, 1, 1, 1, 1, 1, 0, 0, 1, 1, 0, 1, 0, 0, 1, 0, 1, 1, 1, 1, 0, 1, 0, 0, 1, 0, 1, 1, 1, 0, 1, 1, 1, 0, 0, 0, 0, 0, 1, 1, 0, 0, 0, 0, 0, 1, 0, 1, 0, 0, 1, 1, 0, 0, 1, 0, 0, 1, 1, 0, 1, 0, 1, 1, 1, 0, 1, 0, 0, 1, 1, 1, 1, 0, 1, 0, 1, 1, 0, 0, 0, 1, 0, 1, 0, 1, 0, 0, 1, 0, 0, 0, 1, 1, 1, 0, 0, 1, 0, 0, 1, 0, 1, 1, 1, 1, 1, 0, 1, 1, 1, 0, 0, 0, 1, 1, 0, 0, 0, 1, 1, 1, 1, 1, 0, 0, 1, 0, 1, 0, 0, 1, 0, 1, 1, 0, 1, 1, 1, 0, 1, 1, 1, 1, 1, 1, 0, 1, 0, 0, 1, 0, 1, 0, 1, 1, 0, 0, 0, 0, 0, 0, 0, 0, 1, 0, 0, 0, 1, 0, 1, 0, 0, 1, 0, 1, 1, 0, 0, 1, 0, 1, 1, 0, 0, 0, 1, 1, 1, 1, 1, 0, 1, 0, 1, 0, 1, 0, 0, 1, 0, 1, 0, 1, 1, 1, 0, 0, 1, 1, 0, 0, 1, 1, 1, 1, 0, 0, 0, 1, 0, 0, 1, 0, 0, 0, 1, 0, 0, 0, 0, 1, 1, 1, 1, 1, 0, 0, 1, 0, 0, 0, 0, 1, 0, 0, 0, 0, 1, 1, 0, 0, 0, 1, 1, 0, 0, 0, 1, 1, 0, 1, 0, 0, 0, 0, 1, 0, 0, 0, 0, 1, 0, 0, 1, 1, 1, 1, 1, 0, 1, 1, 0, 0, 1, 0, 0, 1, 0, 0, 1, 1, 0, 0, 0, 0, 1, 1, 1, 0, 1, 0, 1, 1, 1, 1, 0, 1, 0, 0, 0, 0, 0, 1, 1, 1, 0, 1, 1, 1, 0, 0, 1, 1, 1, 0, 0, 1, 1, 1, 0, 0, 1, 1, 1, 0, 0, 1, 1, 0, 0, 0, 1, 1, 1, 1, 0, 1, 0, 1, 1, 1, 0, 1, 1, 0, 1, 1, 0, 0, 0, 1, 1, 0, 0, 0, 1, 1, 0, 0, 0, 0, 1, 0, 0, 1, 1, 1, 1, 0, 1, 0, 1, 1, 0, 0, 0, 0, 1, 1, 0, 0, 0, 1, 1, 1, 0, 1, 0, 1, 1, 1, 0, 1, 1, 0, 0, 1, 0, 0, 1, 0, 1, 1, 1, 1, 1, 0, 0, 1, 0, 0, 0, 1, 0, 1, 1, 1, 1, 1, 0, 0, 1, 1, 1, 1, 0, 0, 0, 1, 0, 0, 1, 1, 0, 0, 0, 0, 0, 1, 1, 0, 0, 1, 1, 1, 0, 0, 0, 0, 0, 0, 0, 1, 0, 0, 0, 1, 1, 1, 1, 1, 0, 1, 1, 1, 0, 1, 0, 1, 0, 0, 1, 1, 0, 0, 1, 0, 0, 0, 0, 1, 0, 0, 1, 1, 0, 1, 1, 0, 0, 0, 1, 0, 1, 1, 0, 1, 0, 0, 1, 1, 0, 1, 1, 1, 0, 0, 1, 0, 0, 0, 0, 0, 0, 0, 1, 0, 1, 1, 1, 0, 0, 1, 1, 1, 1, 0, 0, 0, 0, 0, 1, 0, 1, 0, 0, 0, 1, 0, 1, 1, 0, 1, 0, 0, 1, 1, 1, 1, 0, 1, 1, 0, 1, 0, 1, 0, 1, 1, 0, 1, 1, 1, 0, 1, 1, 0, 1, 0, 0, 1, 0, 0, 1, 1, 0, 0, 1, 1, 0, 0, 1, 1, 1, 1, 0, 1, 1, 0, 0, 0, 0, 1, 1, 1, 0, 1, 1, 0, 1, 0, 1, 1, 0, 0, 0, 0, 0, 0, 0, 1, 1, 1, 1, 1, 1, 0, 0, 1, 0, 0, 0, 0, 1, 0, 1, 1, 0, 0, 1, 0, 1, 0, 1, 0, 0, 0, 0, 1, 0, 0, 0, 1, 0, 1, 1, 0, 1, 0, 0, 1, 0, 0, 0, 0, 0, 0, 1, 0, 1, 0, 1, 1, 1, 0, 0, 1, 0, 1, 1, 1, 1, 1, 0, 0, 1, 1, 1, 1, 1, 0, 1, 1, 0, 0, 1, 0, 0, 0, 0, 1, 0, 1, 0, 1, 1, 1, 0, 1, 0, 1, 0, 1, 1, 1, 1, 1, 1, 1, 0, 1, 1, 0, 0, 1, 0, 0, 0, 0, 0, 0, 0, 1, 1, 0, 0, 0, 1, 1, 1, 0, 0, 1, 1, 0, 1, 0, 1, 1, 1, 1, 0, 0, 0, 1, 1, 1, 0, 0, 1, 0, 0, 0, 1, 1, 0, 0, 1, 0, 0, 1, 1, 1, 0, 0, 1, 0, 0, 0, 1, 0, 0, 0, 0, 0, 0, 0, 0, 0, 0, 1, 0, 0, 0, 1, 0, 1, 1, 1, 1, 1, 0, 0, 0, 0, 1, 0, 0, 1, 1, 0, 1, 1, 1, 0, 1, 1, 0, 0, 0, 1, 0, 0, 1, 0, 0, 1, 1, 1, 0, 0, 1, 1, 1, 0, 1, 0, 1, 0, 0, 1, 1, 1, 1, 1, 1, 1, 1, 0, 1, 0, 1, 1, 1, 0, 0, 0, 1, 1, 0, 1, 0, 1, 0, 1, 1, 1, 0, 0, 1, 1, 1, 0, 1, 0, 0, 0, 1, 0, 0, 0, 1, 0, 1, 1, 1, 1, 1, 0, 1, 1, 0, 0, 0, 0, 1, 1, 0, 1, 0, 1, 0, 1, 1, 1, 1, 1, 0, 0, 0, 1, 0, 0, 0, 0, 0, 1, 1, 0, 1, 1, 0, 1, 1, 0, 1, 0, 0, 0, 0, 0, 1, 1, 1, 0, 0, 0, 1, 1, 1, 0, 1, 1, 0, 1, 1, 1, 1, 0, 0, 0, 0, 1, 0, 1, 1, 1, 1, 1, 1, 1, 1, 0, 1, 0, 0, 1, 1, 0, 0, 0, 0, 1, 0, 1, 1, 1, 0, 0, 1, 1, 1, 1, 0, 1, 0, 0, 0, 1, 1, 1, 0, 1, 1, 0, 0, 0, 1, 1, 1, 1, 0, 1, 0, 1, 0, 0, 0, 1, 0, 1, 0, 1, 0, 1, 0, 0, 1, 1, 0, 0, 1, 0, 1, 1, 1, 1, 0, 0, 0, 1, 0, 1, 1, 0, 1, 1, 0, 0, 1, 0, 1, 1, 0, 1, 1, 0, 0, 1, 1, 1, 1, 0, 0, 1, 0, 0, 1, 1, 1, 0, 1, 0, 1, 0, 1, 0, 1, 1, 0, 0, 1, 1, 0, 1, 1, 0, 0, 1, 1, 1, 1, 0, 0, 0, 0, 0, 0, 1, 1, 1, 0, 0, 0, 1, 0, 1, 1, 0, 1, 1, 0, 0, 0, 1, 1, 0, 0, 1, 0, 1, 1, 0, 1, 0, 0, 0, 1, 1, 1, 1, 0, 0, 1, 1, 1, 1, 0, 1, 1, 1, 1, 0, 0, 0, 1, 0, 1, 0, 1, 1, 1, 0, 0, 1, 0, 1, 0, 1, 0, 1, 1, 1, 1, 0, 0, 0, 1, 1, 1, 0, 0, 1, 0, 0, 0, 1, 1, 1, 1, 0, 0, 1, 0, 1, 0, 0, 1, 0, 1, 1, 0, 0, 0, 1, 0, 0, 0, 0, 1, 0, 1, 0, 1, 1, 1, 0, 1, 0, 1, 0, 0, 0, 1, 1, 1, 0, 1, 1, 1, 1, 0, 0, 0, 1, 1, 1, 0, 0, 1, 1, 1, 1, 0, 1, 1, 0, 0, 0, 1, 1, 0, 1, 1, 1, 0, 1, 1, 1, 1, 0, 1, 0, 0, 0, 0, 0, 1, 0, 1, 1, 1, 1, 1, 1, 0, 1, 1, 1, 0, 0, 1, 0, 1, 1, 0, 1, 0, 1, 1, 0, 0, 1, 0, 0, 1, 1, 1, 1, 1, 0, 0, 0, 0, 0, 0, 0, 1, 1, 0, 0, 1, 0, 0, 0, 0, 1, 0, 1, 0, 0, 0, 1, 1, 1, 1, 0, 0, 0, 1, 0, 0, 1, 1, 0, 0, 1, 1, 0, 1, 1, 0, 1, 0, 0, 0, 1, 1, 0, 0, 1, 0, 1, 1, 1, 0, 1, 0, 1, 0, 1, 1, 1, 0, 0, 0, 1, 1, 1, 1, 1, 1, 1, 0, 0, 0, 0, 1, 0, 0, 0, 1, 1, 0, 1, 0, 0, 1, 0, 1, 1, 1, 0, 0, 0, 0, 0, 1, 0, 0, 1, 0, 1, 1, 0, 0, 1, 1, 1, 0, 1, 0, 0, 0, 1, 1, 1, 1, 1, 0, 0, 1, 1, 0, 1, 1, 0, 0, 1, 0, 0, 1, 1, 0, 1, 1, 1, 1, 0, 1, 0, 1, 1, 0, 1, 1, 0, 1, 1, 0, 0, 1, 0, 1, 1, 0, 1, 1, 0, 1, 0, 0, 0, 1, 0, 1, 1, 0, 1, 0, 0, 1, 0, 0, 1, 0, 0, 0, 1, 1, 0, 1, 1, 0, 0, 1, 0, 1, 1, 1, 0, 0, 0, 0, 1, 1, 0, 1, 1, 0, 0, 1, 1, 1, 1, 1, 0, 1, 0, 1, 0, 0, 1, 0, 1, 0, 1, 1, 1, 0, 0, 1, 1, 1, 1, 1, 0, 0, 0, 1, 1, 0, 1, 0, 1, 0, 0, 1, 0, 0, 0, 0, 0, 0, 1, 0, 1, 1, 1, 0, 1, 1, 0, 1, 0, 1, 1, 0, 1, 1, 1, 0, 0, 1, 1, 1, 1, 1, 1, 1, 1, 0, 1, 0, 0, 1, 1, 0, 0, 1, 0, 0, 1, 0, 0, 0, 1, 0, 1, 1, 1, 0, 0, 1, 0, 1, 1, 1, 1, 1, 0, 0, 1, 1, 1, 0, 0, 1, 1, 1, 0, 0, 1, 0, 1, 0, 0, 0, 1, 1, 1, 0, 1, 1, 0, 0, 0, 1, 1, 1, 0, 1, 1, 0, 0, 1, 0, 0, 0, 0, 0, 0, 0, 0, 1, 1, 0, 1, 0, 1, 0, 0, 1, 1, 0, 0, 1, 0, 0, 0, 0, 0, 1, 1, 1, 0, 0, 0, 1, 1, 1, 1, 0, 0, 1, 0, 1, 0, 1, 1, 1, 1, 0, 1, 0, 1, 1, 0, 0, 1, 1, 1, 1, 1, 0, 1, 1, 1, 0, 1, 0, 1, 1, 0, 0, 0, 0, 1, 1, 1, 0, 1, 1, 1, 0, 0, 1, 1, 0, 0, 1, 1, 1, 0, 0, 0, 0, 1, 0, 1, 0, 0, 0, 0, 0, 0, 1, 1, 1, 0, 0, 1, 1, 1, 1, 1, 1, 0, 1, 1, 0, 1, 0, 0, 0, 0, 0, 1, 0, 1, 1, 1, 0, 0, 0, 1, 1, 1, 1, 0, 0, 0, 1, 0, 1, 1, 1, 0, 0, 1, 1, 1, 0, 0, 1, 0, 0, 0, 0, 0, 0, 1, 0, 0, 0, 1, 1, 1, 0, 1, 0, 1, 0, 0, 0, 0, 1, 0, 0, 0, 1, 0, 1, 1, 0, 1, 0, 1, 0, 1, 1, 0, 0, 1, 1, 1, 1, 0, 0, 0, 0, 0, 1, 1, 0, 0, 1, 0, 1, 0, 1, 1, 0, 0, 0, 1, 0, 0, 1, 1, 0, 1, 1, 0, 1, 1, 0, 0, 0, 0, 1, 1, 1, 1, 0, 0, 0, 1, 1, 1, 1, 0, 1, 1, 1, 1, 1, 0, 0, 0, 1, 0, 1, 0, 0, 1, 1, 1, 1, 1, 0, 1, 0, 0, 0, 1, 0, 0, 1, 1, 1, 0, 1, 0, 0, 0, 0, 0, 0, 1, 0, 1, 0, 1, 1, 1, 1, 0, 1, 0, 0, 0, 0, 1, 0, 0, 0, 0, 0, 0, 1, 1, 0, 1, 1, 1, 1, 1, 1, 0, 1, 1, 1, 0, 1, 1, 1, 1, 1, 0, 1, 0, 0, 1, 1, 0, 0, 1, 0, 0, 0, 0, 1, 0]\n"
          ]
        }
      ]
    },
    {
      "cell_type": "code",
      "source": [
        "model.save('model_weights_v2.h5')"
      ],
      "metadata": {
        "id": "nUC0xVcznytn"
      },
      "execution_count": null,
      "outputs": []
    },
    {
      "cell_type": "code",
      "source": [
        "import pickle\n",
        "\n",
        "extracted_features = [\n",
        "        5,\n",
        "        4,\n",
        "        3,\n",
        "        129,\n",
        "        0,\n",
        "        0,\n",
        "        1,\n",
        "        0,\n",
        "        0,\n",
        "        0,\n",
        "        1,\n",
        "        0,\n",
        "        0,\n",
        "        9,\n",
        "        0,\n",
        "        0,\n",
        "        0,\n",
        "        1,\n",
        "        0,\n",
        "        0,\n",
        "        74,\n",
        "        12,\n",
        "        34,\n",
        "        1,\n",
        "        0,\n",
        "]\n",
        "\n"
      ],
      "metadata": {
        "id": "69NonHmKHjD1"
      },
      "execution_count": null,
      "outputs": []
    },
    {
      "cell_type": "code",
      "source": [
        "import pickle\n",
        "\n",
        "# Load the pickled tuple from the file\n",
        "with open('extracted_features.pickle', 'rb') as file:\n",
        "    features = pickle.load(file)\n",
        "with open('rnn_gru_model.pkl', 'rb') as file:\n",
        "    loaded_model = pickle.load(file)\n",
        "\n",
        "y_pred_loaded = loaded_model.predict(X_test_reshaped)\n",
        "y_pred_loaded = np.round(y_pred_loaded)\n",
        "print(features)"
      ],
      "metadata": {
        "colab": {
          "base_uri": "https://localhost:8080/"
        },
        "id": "GAO5UOBlIyso",
        "outputId": "8760a1d4-e7b6-44df-9e77-5976c9e2ff0e"
      },
      "execution_count": null,
      "outputs": [
        {
          "output_type": "stream",
          "name": "stdout",
          "text": [
            "[5, 4, 3, 129, 0, 0, 1, 0, 0, 0, 1, 0, 0, 9, 0, 0, 0, 1, 0, 0, 74, 12, 34, 1, 0]\n"
          ]
        }
      ]
    }
  ]
}