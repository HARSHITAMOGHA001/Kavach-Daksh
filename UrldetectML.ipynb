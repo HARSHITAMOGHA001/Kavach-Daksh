{
  "nbformat": 4,
  "nbformat_minor": 0,
  "metadata": {
    "colab": {
      "provenance": [],
      "authorship_tag": "ABX9TyOo2qsVuj6iqHC+KFQG8cbA",
      "include_colab_link": true
    },
    "kernelspec": {
      "name": "python3",
      "display_name": "Python 3"
    },
    "language_info": {
      "name": "python"
    }
  },
  "cells": [
    {
      "cell_type": "markdown",
      "metadata": {
        "id": "view-in-github",
        "colab_type": "text"
      },
      "source": [
        "<a href=\"https://colab.research.google.com/github/HARSHITAMOGHA001/Kavach-Daksh/blob/main/UrldetectML.ipynb\" target=\"_parent\"><img src=\"https://colab.research.google.com/assets/colab-badge.svg\" alt=\"Open In Colab\"/></a>"
      ]
    },
    {
      "cell_type": "code",
      "execution_count": null,
      "metadata": {
        "id": "0l_5Hnxjse5C"
      },
      "outputs": [],
      "source": [
        "import numpy as np\n",
        "import pandas as pd\n",
        "import tensorflow as tf\n",
        "import csv\n",
        "from tensorflow.keras.models import Sequential\n",
        "from tensorflow.keras.layers import  GRU\n",
        "from tensorflow.keras.preprocessing.text import Tokenizer\n",
        "from tensorflow.keras.preprocessing.sequence import pad_sequences\n",
        "from sklearn.model_selection import train_test_split\n",
        "from tensorflow.keras.layers import Embedding, SimpleRNN, Dense"
      ]
    },
    {
      "cell_type": "code",
      "source": [
        "data = pd.read_csv('urlset.csv', encoding='latin1', error_bad_lines=False)"
      ],
      "metadata": {
        "id": "OQuTpBbntJHv",
        "colab": {
          "base_uri": "https://localhost:8080/"
        },
        "outputId": "870cc841-d5fb-42e9-fa3b-392f36c09748"
      },
      "execution_count": null,
      "outputs": [
        {
          "output_type": "stream",
          "name": "stderr",
          "text": [
            "<ipython-input-2-8383d80b5ec4>:1: FutureWarning: The error_bad_lines argument has been deprecated and will be removed in a future version. Use on_bad_lines in the future.\n",
            "\n",
            "\n",
            "  data = pd.read_csv('urlset.csv', encoding='latin1', error_bad_lines=False)\n",
            "Skipping line 18259: expected 14 fields, saw 15\n",
            "Skipping line 18273: expected 14 fields, saw 15\n",
            "\n",
            "<ipython-input-2-8383d80b5ec4>:1: DtypeWarning: Columns (1,2,3,11,12) have mixed types. Specify dtype option on import or set low_memory=False.\n",
            "  data = pd.read_csv('urlset.csv', encoding='latin1', error_bad_lines=False)\n"
          ]
        }
      ]
    },
    {
      "cell_type": "code",
      "source": [
        "data.head(10)"
      ],
      "metadata": {
        "colab": {
          "base_uri": "https://localhost:8080/",
          "height": 444
        },
        "id": "Gw7tgkQutOx6",
        "outputId": "d2205cfe-188a-4214-f0a5-82222014fb04"
      },
      "execution_count": null,
      "outputs": [
        {
          "output_type": "execute_result",
          "data": {
            "text/plain": [
              "                                              domain   ranking mld_res  \\\n",
              "0  nobell.it/70ffb52d079109dca5664cce6f317373782/...  10000000     1.0   \n",
              "1  www.dghjdgf.com/paypal.co.uk/cycgi-bin/webscrc...  10000000     0.0   \n",
              "2  serviciosbys.com/paypal.cgi.bin.get-into.herf....  10000000     0.0   \n",
              "3  mail.printakid.com/www.online.americanexpress....  10000000     0.0   \n",
              "4  thewhiskeydregs.com/wp-content/themes/widescre...  10000000     0.0   \n",
              "5               smilesvoegol.servebbs.org/voegol.php  10000000     0.0   \n",
              "6  premierpaymentprocessing.com/includes/boleto-2...  10000000     0.0   \n",
              "7  myxxxcollection.com/v1/js/jih321/bpd.com.do/do...  10000000     0.0   \n",
              "8                                super1000.info/docs  10000000     0.0   \n",
              "9  horizonsgallery.com/js/bin/ssl1/_id/www.paypal...  10000000     0.0   \n",
              "\n",
              "  mld.ps_res  card_rem  ratio_Rrem  ratio_Arem  jaccard_RR  jaccard_RA  \\\n",
              "0        0.0      18.0  107.611111  107.277778         0.0         0.0   \n",
              "1        0.0      11.0  150.636364  152.272727         0.0         0.0   \n",
              "2        0.0      14.0   73.500000   72.642857         0.0         0.0   \n",
              "3        0.0       6.0  562.000000  590.666667         0.0         0.0   \n",
              "4        0.0       8.0   29.000000   24.125000         0.0         0.0   \n",
              "5        0.0       2.0  223.500000  234.000000         0.0         0.0   \n",
              "6        0.0       4.0  119.000000  121.500000         0.0         0.0   \n",
              "7        0.0       4.0  160.500000  157.250000         0.0         0.0   \n",
              "8        0.0       1.0   21.000000   13.000000         0.0         0.0   \n",
              "9        0.0      16.0  142.375000  142.500000         0.0         0.0   \n",
              "\n",
              "   jaccard_AR  jaccard_AA jaccard_ARrd jaccard_ARrem  label  \n",
              "0         0.0         0.0          0.8      0.795729    1.0  \n",
              "1         0.0         0.0            0      0.768577    1.0  \n",
              "2         0.0         0.0            0      0.726582    1.0  \n",
              "3         0.0         0.0            0       0.85964    1.0  \n",
              "4         0.0         0.0            0      0.748971    1.0  \n",
              "5         0.0         0.0            0      0.852227    1.0  \n",
              "6         0.0         0.0            0      0.853565    1.0  \n",
              "7         0.0         0.0            0      0.777622    1.0  \n",
              "8         0.0         0.0            0          0.36    1.0  \n",
              "9         0.0         0.0            0      0.803006    1.0  "
            ],
            "text/html": [
              "\n",
              "\n",
              "  <div id=\"df-a6ace41b-20c8-48cb-91d5-0f0a51115e15\">\n",
              "    <div class=\"colab-df-container\">\n",
              "      <div>\n",
              "<style scoped>\n",
              "    .dataframe tbody tr th:only-of-type {\n",
              "        vertical-align: middle;\n",
              "    }\n",
              "\n",
              "    .dataframe tbody tr th {\n",
              "        vertical-align: top;\n",
              "    }\n",
              "\n",
              "    .dataframe thead th {\n",
              "        text-align: right;\n",
              "    }\n",
              "</style>\n",
              "<table border=\"1\" class=\"dataframe\">\n",
              "  <thead>\n",
              "    <tr style=\"text-align: right;\">\n",
              "      <th></th>\n",
              "      <th>domain</th>\n",
              "      <th>ranking</th>\n",
              "      <th>mld_res</th>\n",
              "      <th>mld.ps_res</th>\n",
              "      <th>card_rem</th>\n",
              "      <th>ratio_Rrem</th>\n",
              "      <th>ratio_Arem</th>\n",
              "      <th>jaccard_RR</th>\n",
              "      <th>jaccard_RA</th>\n",
              "      <th>jaccard_AR</th>\n",
              "      <th>jaccard_AA</th>\n",
              "      <th>jaccard_ARrd</th>\n",
              "      <th>jaccard_ARrem</th>\n",
              "      <th>label</th>\n",
              "    </tr>\n",
              "  </thead>\n",
              "  <tbody>\n",
              "    <tr>\n",
              "      <th>0</th>\n",
              "      <td>nobell.it/70ffb52d079109dca5664cce6f317373782/...</td>\n",
              "      <td>10000000</td>\n",
              "      <td>1.0</td>\n",
              "      <td>0.0</td>\n",
              "      <td>18.0</td>\n",
              "      <td>107.611111</td>\n",
              "      <td>107.277778</td>\n",
              "      <td>0.0</td>\n",
              "      <td>0.0</td>\n",
              "      <td>0.0</td>\n",
              "      <td>0.0</td>\n",
              "      <td>0.8</td>\n",
              "      <td>0.795729</td>\n",
              "      <td>1.0</td>\n",
              "    </tr>\n",
              "    <tr>\n",
              "      <th>1</th>\n",
              "      <td>www.dghjdgf.com/paypal.co.uk/cycgi-bin/webscrc...</td>\n",
              "      <td>10000000</td>\n",
              "      <td>0.0</td>\n",
              "      <td>0.0</td>\n",
              "      <td>11.0</td>\n",
              "      <td>150.636364</td>\n",
              "      <td>152.272727</td>\n",
              "      <td>0.0</td>\n",
              "      <td>0.0</td>\n",
              "      <td>0.0</td>\n",
              "      <td>0.0</td>\n",
              "      <td>0</td>\n",
              "      <td>0.768577</td>\n",
              "      <td>1.0</td>\n",
              "    </tr>\n",
              "    <tr>\n",
              "      <th>2</th>\n",
              "      <td>serviciosbys.com/paypal.cgi.bin.get-into.herf....</td>\n",
              "      <td>10000000</td>\n",
              "      <td>0.0</td>\n",
              "      <td>0.0</td>\n",
              "      <td>14.0</td>\n",
              "      <td>73.500000</td>\n",
              "      <td>72.642857</td>\n",
              "      <td>0.0</td>\n",
              "      <td>0.0</td>\n",
              "      <td>0.0</td>\n",
              "      <td>0.0</td>\n",
              "      <td>0</td>\n",
              "      <td>0.726582</td>\n",
              "      <td>1.0</td>\n",
              "    </tr>\n",
              "    <tr>\n",
              "      <th>3</th>\n",
              "      <td>mail.printakid.com/www.online.americanexpress....</td>\n",
              "      <td>10000000</td>\n",
              "      <td>0.0</td>\n",
              "      <td>0.0</td>\n",
              "      <td>6.0</td>\n",
              "      <td>562.000000</td>\n",
              "      <td>590.666667</td>\n",
              "      <td>0.0</td>\n",
              "      <td>0.0</td>\n",
              "      <td>0.0</td>\n",
              "      <td>0.0</td>\n",
              "      <td>0</td>\n",
              "      <td>0.85964</td>\n",
              "      <td>1.0</td>\n",
              "    </tr>\n",
              "    <tr>\n",
              "      <th>4</th>\n",
              "      <td>thewhiskeydregs.com/wp-content/themes/widescre...</td>\n",
              "      <td>10000000</td>\n",
              "      <td>0.0</td>\n",
              "      <td>0.0</td>\n",
              "      <td>8.0</td>\n",
              "      <td>29.000000</td>\n",
              "      <td>24.125000</td>\n",
              "      <td>0.0</td>\n",
              "      <td>0.0</td>\n",
              "      <td>0.0</td>\n",
              "      <td>0.0</td>\n",
              "      <td>0</td>\n",
              "      <td>0.748971</td>\n",
              "      <td>1.0</td>\n",
              "    </tr>\n",
              "    <tr>\n",
              "      <th>5</th>\n",
              "      <td>smilesvoegol.servebbs.org/voegol.php</td>\n",
              "      <td>10000000</td>\n",
              "      <td>0.0</td>\n",
              "      <td>0.0</td>\n",
              "      <td>2.0</td>\n",
              "      <td>223.500000</td>\n",
              "      <td>234.000000</td>\n",
              "      <td>0.0</td>\n",
              "      <td>0.0</td>\n",
              "      <td>0.0</td>\n",
              "      <td>0.0</td>\n",
              "      <td>0</td>\n",
              "      <td>0.852227</td>\n",
              "      <td>1.0</td>\n",
              "    </tr>\n",
              "    <tr>\n",
              "      <th>6</th>\n",
              "      <td>premierpaymentprocessing.com/includes/boleto-2...</td>\n",
              "      <td>10000000</td>\n",
              "      <td>0.0</td>\n",
              "      <td>0.0</td>\n",
              "      <td>4.0</td>\n",
              "      <td>119.000000</td>\n",
              "      <td>121.500000</td>\n",
              "      <td>0.0</td>\n",
              "      <td>0.0</td>\n",
              "      <td>0.0</td>\n",
              "      <td>0.0</td>\n",
              "      <td>0</td>\n",
              "      <td>0.853565</td>\n",
              "      <td>1.0</td>\n",
              "    </tr>\n",
              "    <tr>\n",
              "      <th>7</th>\n",
              "      <td>myxxxcollection.com/v1/js/jih321/bpd.com.do/do...</td>\n",
              "      <td>10000000</td>\n",
              "      <td>0.0</td>\n",
              "      <td>0.0</td>\n",
              "      <td>4.0</td>\n",
              "      <td>160.500000</td>\n",
              "      <td>157.250000</td>\n",
              "      <td>0.0</td>\n",
              "      <td>0.0</td>\n",
              "      <td>0.0</td>\n",
              "      <td>0.0</td>\n",
              "      <td>0</td>\n",
              "      <td>0.777622</td>\n",
              "      <td>1.0</td>\n",
              "    </tr>\n",
              "    <tr>\n",
              "      <th>8</th>\n",
              "      <td>super1000.info/docs</td>\n",
              "      <td>10000000</td>\n",
              "      <td>0.0</td>\n",
              "      <td>0.0</td>\n",
              "      <td>1.0</td>\n",
              "      <td>21.000000</td>\n",
              "      <td>13.000000</td>\n",
              "      <td>0.0</td>\n",
              "      <td>0.0</td>\n",
              "      <td>0.0</td>\n",
              "      <td>0.0</td>\n",
              "      <td>0</td>\n",
              "      <td>0.36</td>\n",
              "      <td>1.0</td>\n",
              "    </tr>\n",
              "    <tr>\n",
              "      <th>9</th>\n",
              "      <td>horizonsgallery.com/js/bin/ssl1/_id/www.paypal...</td>\n",
              "      <td>10000000</td>\n",
              "      <td>0.0</td>\n",
              "      <td>0.0</td>\n",
              "      <td>16.0</td>\n",
              "      <td>142.375000</td>\n",
              "      <td>142.500000</td>\n",
              "      <td>0.0</td>\n",
              "      <td>0.0</td>\n",
              "      <td>0.0</td>\n",
              "      <td>0.0</td>\n",
              "      <td>0</td>\n",
              "      <td>0.803006</td>\n",
              "      <td>1.0</td>\n",
              "    </tr>\n",
              "  </tbody>\n",
              "</table>\n",
              "</div>\n",
              "      <button class=\"colab-df-convert\" onclick=\"convertToInteractive('df-a6ace41b-20c8-48cb-91d5-0f0a51115e15')\"\n",
              "              title=\"Convert this dataframe to an interactive table.\"\n",
              "              style=\"display:none;\">\n",
              "\n",
              "  <svg xmlns=\"http://www.w3.org/2000/svg\" height=\"24px\"viewBox=\"0 0 24 24\"\n",
              "       width=\"24px\">\n",
              "    <path d=\"M0 0h24v24H0V0z\" fill=\"none\"/>\n",
              "    <path d=\"M18.56 5.44l.94 2.06.94-2.06 2.06-.94-2.06-.94-.94-2.06-.94 2.06-2.06.94zm-11 1L8.5 8.5l.94-2.06 2.06-.94-2.06-.94L8.5 2.5l-.94 2.06-2.06.94zm10 10l.94 2.06.94-2.06 2.06-.94-2.06-.94-.94-2.06-.94 2.06-2.06.94z\"/><path d=\"M17.41 7.96l-1.37-1.37c-.4-.4-.92-.59-1.43-.59-.52 0-1.04.2-1.43.59L10.3 9.45l-7.72 7.72c-.78.78-.78 2.05 0 2.83L4 21.41c.39.39.9.59 1.41.59.51 0 1.02-.2 1.41-.59l7.78-7.78 2.81-2.81c.8-.78.8-2.07 0-2.86zM5.41 20L4 18.59l7.72-7.72 1.47 1.35L5.41 20z\"/>\n",
              "  </svg>\n",
              "      </button>\n",
              "\n",
              "\n",
              "\n",
              "    <div id=\"df-b4fd8854-d565-41b1-87dc-2127de609ad1\">\n",
              "      <button class=\"colab-df-quickchart\" onclick=\"quickchart('df-b4fd8854-d565-41b1-87dc-2127de609ad1')\"\n",
              "              title=\"Suggest charts.\"\n",
              "              style=\"display:none;\">\n",
              "\n",
              "<svg xmlns=\"http://www.w3.org/2000/svg\" height=\"24px\"viewBox=\"0 0 24 24\"\n",
              "     width=\"24px\">\n",
              "    <g>\n",
              "        <path d=\"M19 3H5c-1.1 0-2 .9-2 2v14c0 1.1.9 2 2 2h14c1.1 0 2-.9 2-2V5c0-1.1-.9-2-2-2zM9 17H7v-7h2v7zm4 0h-2V7h2v10zm4 0h-2v-4h2v4z\"/>\n",
              "    </g>\n",
              "</svg>\n",
              "      </button>\n",
              "    </div>\n",
              "\n",
              "<style>\n",
              "  .colab-df-quickchart {\n",
              "    background-color: #E8F0FE;\n",
              "    border: none;\n",
              "    border-radius: 50%;\n",
              "    cursor: pointer;\n",
              "    display: none;\n",
              "    fill: #1967D2;\n",
              "    height: 32px;\n",
              "    padding: 0 0 0 0;\n",
              "    width: 32px;\n",
              "  }\n",
              "\n",
              "  .colab-df-quickchart:hover {\n",
              "    background-color: #E2EBFA;\n",
              "    box-shadow: 0px 1px 2px rgba(60, 64, 67, 0.3), 0px 1px 3px 1px rgba(60, 64, 67, 0.15);\n",
              "    fill: #174EA6;\n",
              "  }\n",
              "\n",
              "  [theme=dark] .colab-df-quickchart {\n",
              "    background-color: #3B4455;\n",
              "    fill: #D2E3FC;\n",
              "  }\n",
              "\n",
              "  [theme=dark] .colab-df-quickchart:hover {\n",
              "    background-color: #434B5C;\n",
              "    box-shadow: 0px 1px 3px 1px rgba(0, 0, 0, 0.15);\n",
              "    filter: drop-shadow(0px 1px 2px rgba(0, 0, 0, 0.3));\n",
              "    fill: #FFFFFF;\n",
              "  }\n",
              "</style>\n",
              "\n",
              "    <script>\n",
              "      async function quickchart(key) {\n",
              "        const containerElement = document.querySelector('#' + key);\n",
              "        const charts = await google.colab.kernel.invokeFunction(\n",
              "            'suggestCharts', [key], {});\n",
              "      }\n",
              "    </script>\n",
              "\n",
              "      <script>\n",
              "\n",
              "function displayQuickchartButton(domScope) {\n",
              "  let quickchartButtonEl =\n",
              "    domScope.querySelector('#df-b4fd8854-d565-41b1-87dc-2127de609ad1 button.colab-df-quickchart');\n",
              "  quickchartButtonEl.style.display =\n",
              "    google.colab.kernel.accessAllowed ? 'block' : 'none';\n",
              "}\n",
              "\n",
              "        displayQuickchartButton(document);\n",
              "      </script>\n",
              "      <style>\n",
              "    .colab-df-container {\n",
              "      display:flex;\n",
              "      flex-wrap:wrap;\n",
              "      gap: 12px;\n",
              "    }\n",
              "\n",
              "    .colab-df-convert {\n",
              "      background-color: #E8F0FE;\n",
              "      border: none;\n",
              "      border-radius: 50%;\n",
              "      cursor: pointer;\n",
              "      display: none;\n",
              "      fill: #1967D2;\n",
              "      height: 32px;\n",
              "      padding: 0 0 0 0;\n",
              "      width: 32px;\n",
              "    }\n",
              "\n",
              "    .colab-df-convert:hover {\n",
              "      background-color: #E2EBFA;\n",
              "      box-shadow: 0px 1px 2px rgba(60, 64, 67, 0.3), 0px 1px 3px 1px rgba(60, 64, 67, 0.15);\n",
              "      fill: #174EA6;\n",
              "    }\n",
              "\n",
              "    [theme=dark] .colab-df-convert {\n",
              "      background-color: #3B4455;\n",
              "      fill: #D2E3FC;\n",
              "    }\n",
              "\n",
              "    [theme=dark] .colab-df-convert:hover {\n",
              "      background-color: #434B5C;\n",
              "      box-shadow: 0px 1px 3px 1px rgba(0, 0, 0, 0.15);\n",
              "      filter: drop-shadow(0px 1px 2px rgba(0, 0, 0, 0.3));\n",
              "      fill: #FFFFFF;\n",
              "    }\n",
              "  </style>\n",
              "\n",
              "      <script>\n",
              "        const buttonEl =\n",
              "          document.querySelector('#df-a6ace41b-20c8-48cb-91d5-0f0a51115e15 button.colab-df-convert');\n",
              "        buttonEl.style.display =\n",
              "          google.colab.kernel.accessAllowed ? 'block' : 'none';\n",
              "\n",
              "        async function convertToInteractive(key) {\n",
              "          const element = document.querySelector('#df-a6ace41b-20c8-48cb-91d5-0f0a51115e15');\n",
              "          const dataTable =\n",
              "            await google.colab.kernel.invokeFunction('convertToInteractive',\n",
              "                                                     [key], {});\n",
              "          if (!dataTable) return;\n",
              "\n",
              "          const docLinkHtml = 'Like what you see? Visit the ' +\n",
              "            '<a target=\"_blank\" href=https://colab.research.google.com/notebooks/data_table.ipynb>data table notebook</a>'\n",
              "            + ' to learn more about interactive tables.';\n",
              "          element.innerHTML = '';\n",
              "          dataTable['output_type'] = 'display_data';\n",
              "          await google.colab.output.renderOutput(dataTable, element);\n",
              "          const docLink = document.createElement('div');\n",
              "          docLink.innerHTML = docLinkHtml;\n",
              "          element.appendChild(docLink);\n",
              "        }\n",
              "      </script>\n",
              "    </div>\n",
              "  </div>\n"
            ]
          },
          "metadata": {},
          "execution_count": 3
        }
      ]
    },
    {
      "cell_type": "code",
      "source": [
        "data.shape"
      ],
      "metadata": {
        "colab": {
          "base_uri": "https://localhost:8080/"
        },
        "id": "6uuOxNu_tTKN",
        "outputId": "f24b31b0-4681-4352-8399-96f84164fd8b"
      },
      "execution_count": null,
      "outputs": [
        {
          "output_type": "execute_result",
          "data": {
            "text/plain": [
              "(96005, 14)"
            ]
          },
          "metadata": {},
          "execution_count": 4
        }
      ]
    },
    {
      "cell_type": "code",
      "source": [
        "data.info()"
      ],
      "metadata": {
        "colab": {
          "base_uri": "https://localhost:8080/"
        },
        "id": "Buqy7IPBtVgQ",
        "outputId": "45a716e2-a0b6-4197-d0c8-f9a0438cf038"
      },
      "execution_count": null,
      "outputs": [
        {
          "output_type": "stream",
          "name": "stdout",
          "text": [
            "<class 'pandas.core.frame.DataFrame'>\n",
            "RangeIndex: 96005 entries, 0 to 96004\n",
            "Data columns (total 14 columns):\n",
            " #   Column         Non-Null Count  Dtype  \n",
            "---  ------         --------------  -----  \n",
            " 0   domain         96005 non-null  object \n",
            " 1   ranking        95953 non-null  object \n",
            " 2   mld_res        95935 non-null  object \n",
            " 3   mld.ps_res     95924 non-null  object \n",
            " 4   card_rem       95923 non-null  float64\n",
            " 5   ratio_Rrem     95923 non-null  float64\n",
            " 6   ratio_Arem     95923 non-null  float64\n",
            " 7   jaccard_RR     95922 non-null  float64\n",
            " 8   jaccard_RA     95921 non-null  float64\n",
            " 9   jaccard_AR     95920 non-null  float64\n",
            " 10  jaccard_AA     95919 non-null  float64\n",
            " 11  jaccard_ARrd   95919 non-null  object \n",
            " 12  jaccard_ARrem  95917 non-null  object \n",
            " 13  label          95913 non-null  float64\n",
            "dtypes: float64(8), object(6)\n",
            "memory usage: 10.3+ MB\n"
          ]
        }
      ]
    },
    {
      "cell_type": "code",
      "source": [
        "data = data.dropna()"
      ],
      "metadata": {
        "id": "fC-6MmN7t_dV"
      },
      "execution_count": null,
      "outputs": []
    },
    {
      "cell_type": "code",
      "source": [
        "data.info()"
      ],
      "metadata": {
        "colab": {
          "base_uri": "https://localhost:8080/"
        },
        "id": "osW80DZ054oh",
        "outputId": "1e8cb9d2-1fb3-49da-ab2f-468d42ff7fe3"
      },
      "execution_count": null,
      "outputs": [
        {
          "output_type": "stream",
          "name": "stdout",
          "text": [
            "<class 'pandas.core.frame.DataFrame'>\n",
            "Int64Index: 95913 entries, 0 to 96004\n",
            "Data columns (total 14 columns):\n",
            " #   Column         Non-Null Count  Dtype  \n",
            "---  ------         --------------  -----  \n",
            " 0   domain         95913 non-null  object \n",
            " 1   ranking        95913 non-null  object \n",
            " 2   mld_res        95913 non-null  object \n",
            " 3   mld.ps_res     95913 non-null  object \n",
            " 4   card_rem       95913 non-null  float64\n",
            " 5   ratio_Rrem     95913 non-null  float64\n",
            " 6   ratio_Arem     95913 non-null  float64\n",
            " 7   jaccard_RR     95913 non-null  float64\n",
            " 8   jaccard_RA     95913 non-null  float64\n",
            " 9   jaccard_AR     95913 non-null  float64\n",
            " 10  jaccard_AA     95913 non-null  float64\n",
            " 11  jaccard_ARrd   95913 non-null  object \n",
            " 12  jaccard_ARrem  95913 non-null  object \n",
            " 13  label          95913 non-null  float64\n",
            "dtypes: float64(8), object(6)\n",
            "memory usage: 11.0+ MB\n"
          ]
        }
      ]
    },
    {
      "cell_type": "code",
      "source": [
        "X = data.drop(columns=['label'])\n",
        "y = data['label']"
      ],
      "metadata": {
        "id": "GSjHISRquCQc"
      },
      "execution_count": null,
      "outputs": []
    },
    {
      "cell_type": "code",
      "source": [
        "X_train, X_test, y_train, y_test = train_test_split(X, y, test_size=0.2, random_state=42)"
      ],
      "metadata": {
        "id": "KOCLIwvuw1Yx"
      },
      "execution_count": null,
      "outputs": []
    },
    {
      "cell_type": "code",
      "source": [
        "data['label'].value_counts().plot.bar(color='blue')"
      ],
      "metadata": {
        "colab": {
          "base_uri": "https://localhost:8080/",
          "height": 457
        },
        "id": "_-J0J-KDuLMR",
        "outputId": "b67d3afa-aa54-41ed-b23f-7908e63fbb51"
      },
      "execution_count": null,
      "outputs": [
        {
          "output_type": "execute_result",
          "data": {
            "text/plain": [
              "<Axes: >"
            ]
          },
          "metadata": {},
          "execution_count": 10
        },
        {
          "output_type": "display_data",
          "data": {
            "text/plain": [
              "<Figure size 640x480 with 1 Axes>"
            ],
            "image/png": "[encoded data removed]"
          },
          "metadata": {}
        }
      ]
    },
    {
      "cell_type": "code",
      "source": [
        "urls = data['domain'].tolist()\n",
        "labels = data['label'].values"
      ],
      "metadata": {
        "id": "-d734N7cubd-"
      },
      "execution_count": null,
      "outputs": []
    },
    {
      "cell_type": "code",
      "source": [
        "train_data, test_data = data['domain'], data['label']"
      ],
      "metadata": {
        "id": "s2VkWNxTuiwQ"
      },
      "execution_count": null,
      "outputs": []
    },
    {
      "cell_type": "code",
      "source": [
        "print(type(train_data))\n",
        "print(next(iter(train_data)))"
      ],
      "metadata": {
        "colab": {
          "base_uri": "https://localhost:8080/"
        },
        "id": "b9L_bb1mvJKj",
        "outputId": "056ff7c9-a784-4153-e5ae-a3d919b0f11a"
      },
      "execution_count": null,
      "outputs": [
        {
          "output_type": "stream",
          "name": "stdout",
          "text": [
            "<class 'pandas.core.series.Series'>\n",
            "nobell.it/70ffb52d079109dca5664cce6f317373782/login.SkyPe.com/en/cgi-bin/verification/login/70ffb52d079109dca5664cce6f317373/index.php?cmd=_profile-ach&outdated_page_tmpl=p/gen/failed-to-load&nav=0.5.1&login_access=1322408526\n"
          ]
        }
      ]
    },
    {
      "cell_type": "code",
      "source": [
        "training_sentences = []\n",
        "training_labels = []\n",
        "\n",
        "for s in train_data:\n",
        "    training_sentences.append(str(s))\n",
        "    train_data = data['domain']\n",
        "labels = data['label']\n",
        "training_sentences = train_data.values.tolist()\n",
        "training_labels = labels.values.tolist()\n",
        "\n",
        "testing_sentences = []\n",
        "testing_labels = []\n",
        "\n",
        "for s in test_data:\n",
        "    testing_sentences.append(str(s))\n",
        "    test_data = data['domain']\n",
        "labels = data['label']\n",
        "testing_sentences = test_data.values.tolist()\n",
        "testing_labels = labels.values.tolist()"
      ],
      "metadata": {
        "id": "h2DxKniK07pl"
      },
      "execution_count": null,
      "outputs": []
    },
    {
      "cell_type": "code",
      "source": [
        "training_labels_final = np.array(training_labels)\n",
        "testing_labels_final = np.array(testing_labels)"
      ],
      "metadata": {
        "id": "ULRLqMEY1LFX"
      },
      "execution_count": null,
      "outputs": []
    },
    {
      "cell_type": "code",
      "source": [
        "vocab_size = 10000\n",
        "embedding_dim=16\n",
        "max_length = 120\n",
        "trunc_type= 'post'\n",
        "oov_tok=\"\""
      ],
      "metadata": {
        "id": "AomsMar91PUa"
      },
      "execution_count": null,
      "outputs": []
    },
    {
      "cell_type": "code",
      "source": [
        "from tensorflow.keras.preprocessing.text import Tokenizer\n",
        "from tensorflow.keras.preprocessing.sequence import pad_sequences\n",
        "from tensorflow.keras.preprocessing.text import Tokenizer\n",
        "tokenizer = Tokenizer(num_words=vocab_size, oov_token=oov_tok)\n",
        "tokenizer.fit_on_texts(training_sentences)\n",
        "word_index = tokenizer.word_index"
      ],
      "metadata": {
        "id": "LIfUw4lM1YMr"
      },
      "execution_count": null,
      "outputs": []
    },
    {
      "cell_type": "code",
      "source": [
        "print(word_index)"
      ],
      "metadata": {
        "colab": {
          "base_uri": "https://localhost:8080/"
        },
        "id": "Ar_XHmcg1tPG",
        "outputId": "4313e3e8-21b6-402d-e13e-429f47d36ceb"
      },
      "execution_count": null,
      "outputs": [
        {
          "output_type": "stream",
          "name": "stderr",
          "text": [
            "IOPub data rate exceeded.\n",
            "The notebook server will temporarily stop sending output\n",
            "to the client in order to avoid crashing it.\n",
            "To change this limit, set the config variable\n",
            "`--NotebookApp.iopub_data_rate_limit`.\n",
            "\n",
            "Current values:\n",
            "NotebookApp.iopub_data_rate_limit=1000000.0 (bytes/sec)\n",
            "NotebookApp.rate_limit_window=3.0 (secs)\n",
            "\n"
          ]
        }
      ]
    },
    {
      "cell_type": "code",
      "source": [
        "sequences = tokenizer.texts_to_sequences(training_sentences)\n",
        "padded = pad_sequences(sequences, maxlen=max_length, truncating = trunc_type)\n",
        "testing_sequences = tokenizer.texts_to_sequences(testing_sentences)\n",
        "testing_padded = pad_sequences(testing_sequences, maxlen=max_length)"
      ],
      "metadata": {
        "id": "4Q2cObZ312v9"
      },
      "execution_count": null,
      "outputs": []
    },
    {
      "cell_type": "code",
      "source": [
        "model = tf.keras.Sequential([\n",
        "    tf.keras.layers.Embedding(vocab_size, embedding_dim,\n",
        "                             input_length=max_length),\n",
        "    tf.keras.layers.SimpleRNN(32),\n",
        "    tf.keras.layers.Dense(10, activation='relu'),\n",
        "    tf.keras.layers.Dense(1, activation='sigmoid')\n",
        "])\n",
        "model.summary()"
      ],
      "metadata": {
        "colab": {
          "base_uri": "https://localhost:8080/"
        },
        "id": "_VVKiUN62A2w",
        "outputId": "db5d3786-09ae-41de-e7c6-4d84879c19b4"
      },
      "execution_count": null,
      "outputs": [
        {
          "output_type": "stream",
          "name": "stdout",
          "text": [
            "Model: \"sequential\"\n",
            "_________________________________________________________________\n",
            " Layer (type)                Output Shape              Param #   \n",
            "=================================================================\n",
            " embedding (Embedding)       (None, 120, 16)           160000    \n",
            "                                                                 \n",
            " simple_rnn (SimpleRNN)      (None, 32)                1568      \n",
            "                                                                 \n",
            " dense (Dense)               (None, 10)                330       \n",
            "                                                                 \n",
            " dense_1 (Dense)             (None, 1)                 11        \n",
            "                                                                 \n",
            "=================================================================\n",
            "Total params: 161,909\n",
            "Trainable params: 161,909\n",
            "Non-trainable params: 0\n",
            "_________________________________________________________________\n"
          ]
        }
      ]
    },
    {
      "cell_type": "code",
      "source": [
        "model.compile(loss='binary_crossentropy',optimizer='adam',metrics=['accuracy'])"
      ],
      "metadata": {
        "id": "6ypPKqQl2Cx_"
      },
      "execution_count": null,
      "outputs": []
    },
    {
      "cell_type": "code",
      "source": [
        "num_epochs=30\n",
        "history=model.fit(padded, training_labels_final, epochs=num_epochs, validation_data = (testing_padded, testing_labels_final))"
      ],
      "metadata": {
        "colab": {
          "base_uri": "https://localhost:8080/"
        },
        "id": "TQiIcyux7e9Q",
        "outputId": "40a0b6c7-2f49-4411-8462-a2044ac648b1"
      },
      "execution_count": null,
      "outputs": [
        {
          "output_type": "stream",
          "name": "stdout",
          "text": [
            "Epoch 1/30\n",
            "2998/2998 [==============================] - 141s 46ms/step - loss: 0.1119 - accuracy: 0.9564 - val_loss: 0.0484 - val_accuracy: 0.9837\n",
            "Epoch 2/30\n",
            "2998/2998 [==============================] - 141s 47ms/step - loss: 0.0498 - accuracy: 0.9822 - val_loss: 0.0371 - val_accuracy: 0.9879\n",
            "Epoch 3/30\n",
            "2998/2998 [==============================] - 139s 46ms/step - loss: 0.0425 - accuracy: 0.9848 - val_loss: 0.0336 - val_accuracy: 0.9879\n",
            "Epoch 4/30\n",
            "2998/2998 [==============================] - 119s 40ms/step - loss: 0.0381 - accuracy: 0.9864 - val_loss: 0.0286 - val_accuracy: 0.9903\n",
            "Epoch 5/30\n",
            "2998/2998 [==============================] - 119s 40ms/step - loss: 0.0340 - accuracy: 0.9877 - val_loss: 0.0264 - val_accuracy: 0.9914\n",
            "Epoch 6/30\n",
            "2998/2998 [==============================] - 120s 40ms/step - loss: 0.0320 - accuracy: 0.9889 - val_loss: 0.0258 - val_accuracy: 0.9911\n",
            "Epoch 7/30\n",
            "2998/2998 [==============================] - 144s 48ms/step - loss: 0.0387 - accuracy: 0.9866 - val_loss: 0.0266 - val_accuracy: 0.9909\n",
            "Epoch 8/30\n",
            "2998/2998 [==============================] - 127s 42ms/step - loss: 0.0291 - accuracy: 0.9895 - val_loss: 0.0242 - val_accuracy: 0.9918\n",
            "Epoch 9/30\n",
            "2998/2998 [==============================] - 122s 41ms/step - loss: 0.0320 - accuracy: 0.9883 - val_loss: 0.0249 - val_accuracy: 0.9912\n",
            "Epoch 10/30\n",
            "2998/2998 [==============================] - 139s 46ms/step - loss: 0.0267 - accuracy: 0.9903 - val_loss: 0.0226 - val_accuracy: 0.9921\n",
            "Epoch 11/30\n",
            "2998/2998 [==============================] - 140s 47ms/step - loss: 0.0265 - accuracy: 0.9903 - val_loss: 0.0242 - val_accuracy: 0.9909\n",
            "Epoch 12/30\n",
            "2998/2998 [==============================] - 122s 41ms/step - loss: 0.0250 - accuracy: 0.9912 - val_loss: 0.0307 - val_accuracy: 0.9887\n",
            "Epoch 13/30\n",
            "2998/2998 [==============================] - 122s 41ms/step - loss: 0.0241 - accuracy: 0.9914 - val_loss: 0.0203 - val_accuracy: 0.9929\n",
            "Epoch 14/30\n",
            "2998/2998 [==============================] - 139s 46ms/step - loss: 0.0237 - accuracy: 0.9915 - val_loss: 0.0215 - val_accuracy: 0.9923\n",
            "Epoch 15/30\n",
            "2998/2998 [==============================] - 122s 41ms/step - loss: 0.0224 - accuracy: 0.9918 - val_loss: 0.0210 - val_accuracy: 0.9928\n",
            "Epoch 16/30\n",
            "2998/2998 [==============================] - 120s 40ms/step - loss: 0.0218 - accuracy: 0.9922 - val_loss: 0.0194 - val_accuracy: 0.9928\n",
            "Epoch 17/30\n",
            "2998/2998 [==============================] - 120s 40ms/step - loss: 0.0209 - accuracy: 0.9924 - val_loss: 0.0191 - val_accuracy: 0.9930\n",
            "Epoch 18/30\n",
            "2998/2998 [==============================] - 119s 40ms/step - loss: 0.0202 - accuracy: 0.9925 - val_loss: 0.0192 - val_accuracy: 0.9933\n",
            "Epoch 19/30\n",
            "2998/2998 [==============================] - 120s 40ms/step - loss: 0.0204 - accuracy: 0.9927 - val_loss: 0.0172 - val_accuracy: 0.9940\n",
            "Epoch 20/30\n",
            "2998/2998 [==============================] - 139s 46ms/step - loss: 0.0191 - accuracy: 0.9930 - val_loss: 0.0177 - val_accuracy: 0.9937\n",
            "Epoch 21/30\n",
            "2998/2998 [==============================] - 138s 46ms/step - loss: 0.0186 - accuracy: 0.9930 - val_loss: 0.0181 - val_accuracy: 0.9937\n",
            "Epoch 22/30\n",
            "2998/2998 [==============================] - 137s 46ms/step - loss: 0.0198 - accuracy: 0.9930 - val_loss: 0.0169 - val_accuracy: 0.9940\n",
            "Epoch 23/30\n",
            "2998/2998 [==============================] - 119s 40ms/step - loss: 0.0175 - accuracy: 0.9935 - val_loss: 0.0162 - val_accuracy: 0.9943\n",
            "Epoch 24/30\n",
            "2998/2998 [==============================] - 119s 40ms/step - loss: 0.0174 - accuracy: 0.9936 - val_loss: 0.0167 - val_accuracy: 0.9944\n",
            "Epoch 25/30\n",
            "2998/2998 [==============================] - 137s 46ms/step - loss: 0.0177 - accuracy: 0.9936 - val_loss: 0.0152 - val_accuracy: 0.9945\n",
            "Epoch 26/30\n",
            "2998/2998 [==============================] - 138s 46ms/step - loss: 0.0166 - accuracy: 0.9939 - val_loss: 0.0161 - val_accuracy: 0.9941\n",
            "Epoch 27/30\n",
            "2998/2998 [==============================] - 138s 46ms/step - loss: 0.0168 - accuracy: 0.9935 - val_loss: 0.0153 - val_accuracy: 0.9942\n",
            "Epoch 28/30\n",
            "2998/2998 [==============================] - 118s 39ms/step - loss: 0.0311 - accuracy: 0.9894 - val_loss: 0.0243 - val_accuracy: 0.9916\n",
            "Epoch 29/30\n",
            "2998/2998 [==============================] - 137s 46ms/step - loss: 0.0246 - accuracy: 0.9910 - val_loss: 0.0181 - val_accuracy: 0.9936\n",
            "Epoch 30/30\n",
            "2998/2998 [==============================] - 119s 40ms/step - loss: 0.0214 - accuracy: 0.9925 - val_loss: 0.0189 - val_accuracy: 0.9931\n"
          ]
        }
      ]
    },
    {
      "cell_type": "code",
      "source": [
        "final_training_accuracy = history.history['accuracy'][-1]\n",
        "final_testing_accuracy = history.history['val_accuracy'][-1]\n",
        "\n",
        "print(f\"Final Training Accuracy: {final_training_accuracy:.4f}\")\n",
        "print(f\"Final Testing Accuracy: {final_testing_accuracy:.4f}\")"
      ],
      "metadata": {
        "colab": {
          "base_uri": "https://localhost:8080/"
        },
        "id": "QGAfWtdTK86k",
        "outputId": "4eb69283-1844-4703-d6d5-257ed91184e7"
      },
      "execution_count": null,
      "outputs": [
        {
          "output_type": "stream",
          "name": "stdout",
          "text": [
            "Final Training Accuracy: 0.9925\n",
            "Final Testing Accuracy: 0.9931\n"
          ]
        }
      ]
    },
    {
      "cell_type": "code",
      "source": [
        "pip install tensorflow-federated"
      ],
      "metadata": {
        "colab": {
          "base_uri": "https://localhost:8080/",
          "height": 1000
        },
        "id": "tSws-VkjNggo",
        "outputId": "1faec122-def4-45ca-f46d-3e73c9df1031"
      },
      "execution_count": null,
      "outputs": [
        {
          "output_type": "stream",
          "name": "stdout",
          "text": [
            "Collecting tensorflow-federated\n",
            "  Downloading tensorflow_federated-0.61.0-py3-none-manylinux_2_31_x86_64.whl (114.4 MB)\n",
            "\u001b[2K     \u001b[90m━━━━━━━━━━━━━━━━━━━━━━━━━━━━━━━━━━━━━━━\u001b[0m \u001b[32m114.4/114.4 MB\u001b[0m \u001b[31m8.7 MB/s\u001b[0m eta \u001b[36m0:00:00\u001b[0m\n",
            "\u001b[?25hRequirement already satisfied: absl-py==1.*,>=1.0 in /usr/local/lib/python3.10/dist-packages (from tensorflow-federated) (1.4.0)\n",
            "Collecting attrs~=21.4 (from tensorflow-federated)\n",
            "  Downloading attrs-21.4.0-py2.py3-none-any.whl (60 kB)\n",
            "\u001b[2K     \u001b[90m━━━━━━━━━━━━━━━━━━━━━━━━━━━━━━━━━━━━━━━━\u001b[0m \u001b[32m60.6/60.6 kB\u001b[0m \u001b[31m5.2 MB/s\u001b[0m eta \u001b[36m0:00:00\u001b[0m\n",
            "\u001b[?25hCollecting cachetools~=3.1 (from tensorflow-federated)\n",
            "  Downloading cachetools-3.1.1-py2.py3-none-any.whl (11 kB)\n",
            "Requirement already satisfied: dm-tree==0.1.8 in /usr/local/lib/python3.10/dist-packages (from tensorflow-federated) (0.1.8)\n",
            "Collecting dp-accounting==0.4.2 (from tensorflow-federated)\n",
            "  Downloading dp_accounting-0.4.2-py3-none-any.whl (104 kB)\n",
            "\u001b[2K     \u001b[90m━━━━━━━━━━━━━━━━━━━━━━━━━━━━━━━━━━━━━━\u001b[0m \u001b[32m104.6/104.6 kB\u001b[0m \u001b[31m10.3 MB/s\u001b[0m eta \u001b[36m0:00:00\u001b[0m\n",
            "\u001b[?25hCollecting farmhashpy==0.4.0 (from tensorflow-federated)\n",
            "  Downloading farmhashpy-0.4.0.tar.gz (98 kB)\n",
            "\u001b[2K     \u001b[90m━━━━━━━━━━━━━━━━━━━━━━━━━━━━━━━━━━━━━━━━\u001b[0m \u001b[32m98.7/98.7 kB\u001b[0m \u001b[31m10.4 MB/s\u001b[0m eta \u001b[36m0:00:00\u001b[0m\n",
            "\u001b[?25h  Preparing metadata (setup.py) ... \u001b[?25l\u001b[?25hdone\n",
            "Collecting google-vizier==0.1.4 (from tensorflow-federated)\n",
            "  Downloading google_vizier-0.1.4-py3-none-any.whl (558 kB)\n",
            "\u001b[2K     \u001b[90m━━━━━━━━━━━━━━━━━━━━━━━━━━━━━━━━━━━━━━\u001b[0m \u001b[32m558.5/558.5 kB\u001b[0m \u001b[31m48.3 MB/s\u001b[0m eta \u001b[36m0:00:00\u001b[0m\n",
            "\u001b[?25hRequirement already satisfied: grpcio~=1.46 in /usr/local/lib/python3.10/dist-packages (from tensorflow-federated) (1.56.2)\n",
            "Requirement already satisfied: jaxlib==0.4.13 in /usr/local/lib/python3.10/dist-packages (from tensorflow-federated) (0.4.13+cuda11.cudnn86)\n",
            "Requirement already satisfied: jax==0.4.13 in /usr/local/lib/python3.10/dist-packages (from tensorflow-federated) (0.4.13)\n",
            "Requirement already satisfied: numpy~=1.21 in /usr/local/lib/python3.10/dist-packages (from tensorflow-federated) (1.22.4)\n",
            "Requirement already satisfied: portpicker~=1.5 in /usr/local/lib/python3.10/dist-packages (from tensorflow-federated) (1.5.2)\n",
            "Collecting scipy~=1.9.3 (from tensorflow-federated)\n",
            "  Downloading scipy-1.9.3-cp310-cp310-manylinux_2_17_x86_64.manylinux2014_x86_64.whl (33.7 MB)\n",
            "\u001b[2K     \u001b[90m━━━━━━━━━━━━━━━━━━━━━━━━━━━━━━━━━━━━━━━━\u001b[0m \u001b[32m33.7/33.7 MB\u001b[0m \u001b[31m42.1 MB/s\u001b[0m eta \u001b[36m0:00:00\u001b[0m\n",
            "\u001b[?25hCollecting semantic-version~=2.6 (from tensorflow-federated)\n",
            "  Downloading semantic_version-2.10.0-py2.py3-none-any.whl (15 kB)\n",
            "Collecting tensorflow-compression~=2.12.0 (from tensorflow-federated)\n",
            "  Downloading tensorflow_compression-2.12.0-cp310-cp310-manylinux_2_17_x86_64.manylinux2014_x86_64.whl (255 kB)\n",
            "\u001b[2K     \u001b[90m━━━━━━━━━━━━━━━━━━━━━━━━━━━━━━━━━━━━━━\u001b[0m \u001b[32m255.8/255.8 kB\u001b[0m \u001b[31m24.1 MB/s\u001b[0m eta \u001b[36m0:00:00\u001b[0m\n",
            "\u001b[?25hCollecting tensorflow-model-optimization==0.7.3 (from tensorflow-federated)\n",
            "  Downloading tensorflow_model_optimization-0.7.3-py2.py3-none-any.whl (238 kB)\n",
            "\u001b[2K     \u001b[90m━━━━━━━━━━━━━━━━━━━━━━━━━━━━━━━━━━━━━━\u001b[0m \u001b[32m238.9/238.9 kB\u001b[0m \u001b[31m26.0 MB/s\u001b[0m eta \u001b[36m0:00:00\u001b[0m\n",
            "\u001b[?25hCollecting tensorflow-privacy==0.8.10 (from tensorflow-federated)\n",
            "  Downloading tensorflow_privacy-0.8.10-py3-none-any.whl (365 kB)\n",
            "\u001b[2K     \u001b[90m━━━━━━━━━━━━━━━━━━━━━━━━━━━━━━━━━━━━━━\u001b[0m \u001b[32m365.2/365.2 kB\u001b[0m \u001b[31m34.7 MB/s\u001b[0m eta \u001b[36m0:00:00\u001b[0m\n",
            "\u001b[?25hRequirement already satisfied: tensorflow~=2.12.0 in /usr/local/lib/python3.10/dist-packages (from tensorflow-federated) (2.12.0)\n",
            "Requirement already satisfied: tqdm~=4.64 in /usr/local/lib/python3.10/dist-packages (from tensorflow-federated) (4.65.0)\n",
            "Collecting typing-extensions~=4.4.0 (from tensorflow-federated)\n",
            "  Downloading typing_extensions-4.4.0-py3-none-any.whl (26 kB)\n",
            "Requirement already satisfied: mpmath~=1.2 in /usr/local/lib/python3.10/dist-packages (from dp-accounting==0.4.2->tensorflow-federated) (1.3.0)\n",
            "Requirement already satisfied: protobuf<4.0,>=3.6 in /usr/local/lib/python3.10/dist-packages (from google-vizier==0.1.4->tensorflow-federated) (3.20.3)\n",
            "Collecting grpcio~=1.46 (from tensorflow-federated)\n",
            "  Downloading grpcio-1.48.2-cp310-cp310-manylinux_2_17_x86_64.manylinux2014_x86_64.whl (4.6 MB)\n",
            "\u001b[2K     \u001b[90m━━━━━━━━━━━━━━━━━━━━━━━━━━━━━━━━━━━━━━━━\u001b[0m \u001b[32m4.6/4.6 MB\u001b[0m \u001b[31m88.3 MB/s\u001b[0m eta \u001b[36m0:00:00\u001b[0m\n",
            "\u001b[?25hCollecting grpcio-tools<=1.48.2,>=1.35.0 (from google-vizier==0.1.4->tensorflow-federated)\n",
            "  Downloading grpcio_tools-1.48.2-cp310-cp310-manylinux_2_17_x86_64.manylinux2014_x86_64.whl (2.4 MB)\n",
            "\u001b[2K     \u001b[90m━━━━━━━━━━━━━━━━━━━━━━━━━━━━━━━━━━━━━━━━\u001b[0m \u001b[32m2.4/2.4 MB\u001b[0m \u001b[31m66.4 MB/s\u001b[0m eta \u001b[36m0:00:00\u001b[0m\n",
            "\u001b[?25hRequirement already satisfied: googleapis-common-protos>=1.56.4 in /usr/local/lib/python3.10/dist-packages (from google-vizier==0.1.4->tensorflow-federated) (1.59.1)\n",
            "Collecting sqlalchemy==1.4 (from google-vizier==0.1.4->tensorflow-federated)\n",
            "  Downloading SQLAlchemy-1.4.0.tar.gz (7.4 MB)\n",
            "\u001b[2K     \u001b[90m━━━━━━━━━━━━━━━━━━━━━━━━━━━━━━━━━━━━━━━━\u001b[0m \u001b[32m7.4/7.4 MB\u001b[0m \u001b[31m53.9 MB/s\u001b[0m eta \u001b[36m0:00:00\u001b[0m\n",
            "\u001b[?25h  Preparing metadata (setup.py) ... \u001b[?25l\u001b[?25hdone\n",
            "Requirement already satisfied: ml-dtypes>=0.1.0 in /usr/local/lib/python3.10/dist-packages (from jax==0.4.13->tensorflow-federated) (0.2.0)\n",
            "Requirement already satisfied: opt-einsum in /usr/local/lib/python3.10/dist-packages (from jax==0.4.13->tensorflow-federated) (3.3.0)\n",
            "Requirement already satisfied: six~=1.10 in /usr/local/lib/python3.10/dist-packages (from tensorflow-model-optimization==0.7.3->tensorflow-federated) (1.16.0)\n",
            "Collecting immutabledict~=2.2 (from tensorflow-privacy==0.8.10->tensorflow-federated)\n",
            "  Downloading immutabledict-2.2.5-py3-none-any.whl (4.1 kB)\n",
            "Requirement already satisfied: matplotlib~=3.3 in /usr/local/lib/python3.10/dist-packages (from tensorflow-privacy==0.8.10->tensorflow-federated) (3.7.1)\n",
            "Collecting packaging~=22.0 (from tensorflow-privacy==0.8.10->tensorflow-federated)\n",
            "  Downloading packaging-22.0-py3-none-any.whl (42 kB)\n",
            "\u001b[2K     \u001b[90m━━━━━━━━━━━━━━━━━━━━━━━━━━━━━━━━━━━━━━━━\u001b[0m \u001b[32m42.6/42.6 kB\u001b[0m \u001b[31m5.1 MB/s\u001b[0m eta \u001b[36m0:00:00\u001b[0m\n",
            "\u001b[?25hRequirement already satisfied: pandas~=1.4 in /usr/local/lib/python3.10/dist-packages (from tensorflow-privacy==0.8.10->tensorflow-federated) (1.5.3)\n",
            "Collecting parameterized~=0.8 (from tensorflow-privacy==0.8.10->tensorflow-federated)\n",
            "  Downloading parameterized-0.9.0-py2.py3-none-any.whl (20 kB)\n",
            "Requirement already satisfied: scikit-learn==1.*,>=1.0 in /usr/local/lib/python3.10/dist-packages (from tensorflow-privacy==0.8.10->tensorflow-federated) (1.2.2)\n",
            "Requirement already satisfied: statsmodels~=0.13 in /usr/local/lib/python3.10/dist-packages (from tensorflow-privacy==0.8.10->tensorflow-federated) (0.13.5)\n",
            "Requirement already satisfied: tensorflow-datasets~=4.5 in /usr/local/lib/python3.10/dist-packages (from tensorflow-privacy==0.8.10->tensorflow-federated) (4.9.2)\n",
            "Requirement already satisfied: tensorflow-estimator~=2.4 in /usr/local/lib/python3.10/dist-packages (from tensorflow-privacy==0.8.10->tensorflow-federated) (2.12.0)\n",
            "Requirement already satisfied: tensorflow-probability~=0.20.0 in /usr/local/lib/python3.10/dist-packages (from tensorflow-privacy==0.8.10->tensorflow-federated) (0.20.1)\n",
            "Requirement already satisfied: joblib>=1.1.1 in /usr/local/lib/python3.10/dist-packages (from scikit-learn==1.*,>=1.0->tensorflow-privacy==0.8.10->tensorflow-federated) (1.3.1)\n",
            "Requirement already satisfied: threadpoolctl>=2.0.0 in /usr/local/lib/python3.10/dist-packages (from scikit-learn==1.*,>=1.0->tensorflow-privacy==0.8.10->tensorflow-federated) (3.2.0)\n",
            "Requirement already satisfied: greenlet!=0.4.17 in /usr/local/lib/python3.10/dist-packages (from sqlalchemy==1.4->google-vizier==0.1.4->tensorflow-federated) (2.0.2)\n",
            "Requirement already satisfied: psutil in /usr/local/lib/python3.10/dist-packages (from portpicker~=1.5->tensorflow-federated) (5.9.5)\n",
            "Requirement already satisfied: astunparse>=1.6.0 in /usr/local/lib/python3.10/dist-packages (from tensorflow~=2.12.0->tensorflow-federated) (1.6.3)\n",
            "Requirement already satisfied: flatbuffers>=2.0 in /usr/local/lib/python3.10/dist-packages (from tensorflow~=2.12.0->tensorflow-federated) (23.5.26)\n",
            "Requirement already satisfied: gast<=0.4.0,>=0.2.1 in /usr/local/lib/python3.10/dist-packages (from tensorflow~=2.12.0->tensorflow-federated) (0.4.0)\n",
            "Requirement already satisfied: google-pasta>=0.1.1 in /usr/local/lib/python3.10/dist-packages (from tensorflow~=2.12.0->tensorflow-federated) (0.2.0)\n",
            "Requirement already satisfied: h5py>=2.9.0 in /usr/local/lib/python3.10/dist-packages (from tensorflow~=2.12.0->tensorflow-federated) (3.8.0)\n",
            "Requirement already satisfied: keras<2.13,>=2.12.0 in /usr/local/lib/python3.10/dist-packages (from tensorflow~=2.12.0->tensorflow-federated) (2.12.0)\n",
            "Requirement already satisfied: libclang>=13.0.0 in /usr/local/lib/python3.10/dist-packages (from tensorflow~=2.12.0->tensorflow-federated) (16.0.6)\n",
            "Requirement already satisfied: setuptools in /usr/local/lib/python3.10/dist-packages (from tensorflow~=2.12.0->tensorflow-federated) (67.7.2)\n",
            "Requirement already satisfied: tensorboard<2.13,>=2.12 in /usr/local/lib/python3.10/dist-packages (from tensorflow~=2.12.0->tensorflow-federated) (2.12.3)\n",
            "Requirement already satisfied: termcolor>=1.1.0 in /usr/local/lib/python3.10/dist-packages (from tensorflow~=2.12.0->tensorflow-federated) (2.3.0)\n",
            "Requirement already satisfied: wrapt<1.15,>=1.11.0 in /usr/local/lib/python3.10/dist-packages (from tensorflow~=2.12.0->tensorflow-federated) (1.14.1)\n",
            "Requirement already satisfied: tensorflow-io-gcs-filesystem>=0.23.1 in /usr/local/lib/python3.10/dist-packages (from tensorflow~=2.12.0->tensorflow-federated) (0.32.0)\n",
            "Requirement already satisfied: wheel<1.0,>=0.23.0 in /usr/local/lib/python3.10/dist-packages (from astunparse>=1.6.0->tensorflow~=2.12.0->tensorflow-federated) (0.41.0)\n",
            "Requirement already satisfied: contourpy>=1.0.1 in /usr/local/lib/python3.10/dist-packages (from matplotlib~=3.3->tensorflow-privacy==0.8.10->tensorflow-federated) (1.1.0)\n",
            "Requirement already satisfied: cycler>=0.10 in /usr/local/lib/python3.10/dist-packages (from matplotlib~=3.3->tensorflow-privacy==0.8.10->tensorflow-federated) (0.11.0)\n",
            "Requirement already satisfied: fonttools>=4.22.0 in /usr/local/lib/python3.10/dist-packages (from matplotlib~=3.3->tensorflow-privacy==0.8.10->tensorflow-federated) (4.41.1)\n",
            "Requirement already satisfied: kiwisolver>=1.0.1 in /usr/local/lib/python3.10/dist-packages (from matplotlib~=3.3->tensorflow-privacy==0.8.10->tensorflow-federated) (1.4.4)\n",
            "Requirement already satisfied: pillow>=6.2.0 in /usr/local/lib/python3.10/dist-packages (from matplotlib~=3.3->tensorflow-privacy==0.8.10->tensorflow-federated) (9.4.0)\n",
            "Requirement already satisfied: pyparsing>=2.3.1 in /usr/local/lib/python3.10/dist-packages (from matplotlib~=3.3->tensorflow-privacy==0.8.10->tensorflow-federated) (3.1.0)\n",
            "Requirement already satisfied: python-dateutil>=2.7 in /usr/local/lib/python3.10/dist-packages (from matplotlib~=3.3->tensorflow-privacy==0.8.10->tensorflow-federated) (2.8.2)\n",
            "Requirement already satisfied: pytz>=2020.1 in /usr/local/lib/python3.10/dist-packages (from pandas~=1.4->tensorflow-privacy==0.8.10->tensorflow-federated) (2022.7.1)\n",
            "Requirement already satisfied: patsy>=0.5.2 in /usr/local/lib/python3.10/dist-packages (from statsmodels~=0.13->tensorflow-privacy==0.8.10->tensorflow-federated) (0.5.3)\n",
            "Requirement already satisfied: google-auth<3,>=1.6.3 in /usr/local/lib/python3.10/dist-packages (from tensorboard<2.13,>=2.12->tensorflow~=2.12.0->tensorflow-federated) (2.17.3)\n",
            "Requirement already satisfied: google-auth-oauthlib<1.1,>=0.5 in /usr/local/lib/python3.10/dist-packages (from tensorboard<2.13,>=2.12->tensorflow~=2.12.0->tensorflow-federated) (1.0.0)\n",
            "Requirement already satisfied: markdown>=2.6.8 in /usr/local/lib/python3.10/dist-packages (from tensorboard<2.13,>=2.12->tensorflow~=2.12.0->tensorflow-federated) (3.4.4)\n",
            "Requirement already satisfied: requests<3,>=2.21.0 in /usr/local/lib/python3.10/dist-packages (from tensorboard<2.13,>=2.12->tensorflow~=2.12.0->tensorflow-federated) (2.27.1)\n",
            "Requirement already satisfied: tensorboard-data-server<0.8.0,>=0.7.0 in /usr/local/lib/python3.10/dist-packages (from tensorboard<2.13,>=2.12->tensorflow~=2.12.0->tensorflow-federated) (0.7.1)\n",
            "Requirement already satisfied: werkzeug>=1.0.1 in /usr/local/lib/python3.10/dist-packages (from tensorboard<2.13,>=2.12->tensorflow~=2.12.0->tensorflow-federated) (2.3.6)\n",
            "Requirement already satisfied: array-record in /usr/local/lib/python3.10/dist-packages (from tensorflow-datasets~=4.5->tensorflow-privacy==0.8.10->tensorflow-federated) (0.4.0)\n",
            "Requirement already satisfied: click in /usr/local/lib/python3.10/dist-packages (from tensorflow-datasets~=4.5->tensorflow-privacy==0.8.10->tensorflow-federated) (8.1.6)\n",
            "Requirement already satisfied: etils[enp,epath]>=0.9.0 in /usr/local/lib/python3.10/dist-packages (from tensorflow-datasets~=4.5->tensorflow-privacy==0.8.10->tensorflow-federated) (1.4.0)\n",
            "Requirement already satisfied: promise in /usr/local/lib/python3.10/dist-packages (from tensorflow-datasets~=4.5->tensorflow-privacy==0.8.10->tensorflow-federated) (2.3)\n",
            "Requirement already satisfied: tensorflow-metadata in /usr/local/lib/python3.10/dist-packages (from tensorflow-datasets~=4.5->tensorflow-privacy==0.8.10->tensorflow-federated) (1.13.1)\n",
            "Requirement already satisfied: toml in /usr/local/lib/python3.10/dist-packages (from tensorflow-datasets~=4.5->tensorflow-privacy==0.8.10->tensorflow-federated) (0.10.2)\n",
            "Requirement already satisfied: decorator in /usr/local/lib/python3.10/dist-packages (from tensorflow-probability~=0.20.0->tensorflow-privacy==0.8.10->tensorflow-federated) (4.4.2)\n",
            "Requirement already satisfied: cloudpickle>=1.3 in /usr/local/lib/python3.10/dist-packages (from tensorflow-probability~=0.20.0->tensorflow-privacy==0.8.10->tensorflow-federated) (2.2.1)\n",
            "Requirement already satisfied: importlib_resources in /usr/local/lib/python3.10/dist-packages (from etils[enp,epath]>=0.9.0->tensorflow-datasets~=4.5->tensorflow-privacy==0.8.10->tensorflow-federated) (6.0.0)\n",
            "Requirement already satisfied: zipp in /usr/local/lib/python3.10/dist-packages (from etils[enp,epath]>=0.9.0->tensorflow-datasets~=4.5->tensorflow-privacy==0.8.10->tensorflow-federated) (3.16.2)\n",
            "Requirement already satisfied: pyasn1-modules>=0.2.1 in /usr/local/lib/python3.10/dist-packages (from google-auth<3,>=1.6.3->tensorboard<2.13,>=2.12->tensorflow~=2.12.0->tensorflow-federated) (0.3.0)\n",
            "Requirement already satisfied: rsa<5,>=3.1.4 in /usr/local/lib/python3.10/dist-packages (from google-auth<3,>=1.6.3->tensorboard<2.13,>=2.12->tensorflow~=2.12.0->tensorflow-federated) (4.9)\n",
            "Requirement already satisfied: requests-oauthlib>=0.7.0 in /usr/local/lib/python3.10/dist-packages (from google-auth-oauthlib<1.1,>=0.5->tensorboard<2.13,>=2.12->tensorflow~=2.12.0->tensorflow-federated) (1.3.1)\n",
            "Requirement already satisfied: urllib3<1.27,>=1.21.1 in /usr/local/lib/python3.10/dist-packages (from requests<3,>=2.21.0->tensorboard<2.13,>=2.12->tensorflow~=2.12.0->tensorflow-federated) (1.26.16)\n",
            "Requirement already satisfied: certifi>=2017.4.17 in /usr/local/lib/python3.10/dist-packages (from requests<3,>=2.21.0->tensorboard<2.13,>=2.12->tensorflow~=2.12.0->tensorflow-federated) (2023.7.22)\n",
            "Requirement already satisfied: charset-normalizer~=2.0.0 in /usr/local/lib/python3.10/dist-packages (from requests<3,>=2.21.0->tensorboard<2.13,>=2.12->tensorflow~=2.12.0->tensorflow-federated) (2.0.12)\n",
            "Requirement already satisfied: idna<4,>=2.5 in /usr/local/lib/python3.10/dist-packages (from requests<3,>=2.21.0->tensorboard<2.13,>=2.12->tensorflow~=2.12.0->tensorflow-federated) (3.4)\n",
            "Requirement already satisfied: MarkupSafe>=2.1.1 in /usr/local/lib/python3.10/dist-packages (from werkzeug>=1.0.1->tensorboard<2.13,>=2.12->tensorflow~=2.12.0->tensorflow-federated) (2.1.3)\n",
            "Requirement already satisfied: pyasn1<0.6.0,>=0.4.6 in /usr/local/lib/python3.10/dist-packages (from pyasn1-modules>=0.2.1->google-auth<3,>=1.6.3->tensorboard<2.13,>=2.12->tensorflow~=2.12.0->tensorflow-federated) (0.5.0)\n",
            "Requirement already satisfied: oauthlib>=3.0.0 in /usr/local/lib/python3.10/dist-packages (from requests-oauthlib>=0.7.0->google-auth-oauthlib<1.1,>=0.5->tensorboard<2.13,>=2.12->tensorflow~=2.12.0->tensorflow-federated) (3.2.2)\n",
            "Building wheels for collected packages: farmhashpy, sqlalchemy\n",
            "  Building wheel for farmhashpy (setup.py) ... \u001b[?25l\u001b[?25hdone\n",
            "  Created wheel for farmhashpy: filename=farmhashpy-0.4.0-cp310-cp310-linux_x86_64.whl size=87305 sha256=a16e77e87609c3f2f038d20b9802eff1234a1b919416b6a4a188e3a796106e0a\n",
            "  Stored in directory: /root/.cache/pip/wheels/14/0e/36/b61b3f47ae366b7d5dd2b746326d17234269dbc745ad554857\n",
            "  Building wheel for sqlalchemy (setup.py) ... \u001b[?25l\u001b[?25hdone\n",
            "  Created wheel for sqlalchemy: filename=SQLAlchemy-1.4.0-cp310-cp310-linux_x86_64.whl size=1485875 sha256=f2b685d71d873b8baa0c8a2c5ab9be21af44e4292be8e81a21516c2fed75c345\n",
            "  Stored in directory: /root/.cache/pip/wheels/22/8a/e1/9d63ce4e250a5dac944b29832f98ca73bd9984ae7011b12ea7\n",
            "Successfully built farmhashpy sqlalchemy\n",
            "Installing collected packages: cachetools, typing-extensions, tensorflow-model-optimization, sqlalchemy, semantic-version, scipy, parameterized, packaging, immutabledict, grpcio, farmhashpy, attrs, grpcio-tools, dp-accounting, google-vizier, tensorflow-privacy, tensorflow-compression, tensorflow-federated\n",
            "  Attempting uninstall: cachetools\n",
            "    Found existing installation: cachetools 5.3.1\n",
            "    Uninstalling cachetools-5.3.1:\n",
            "      Successfully uninstalled cachetools-5.3.1\n",
            "  Attempting uninstall: typing-extensions\n",
            "    Found existing installation: typing_extensions 4.7.1\n",
            "    Uninstalling typing_extensions-4.7.1:\n",
            "      Successfully uninstalled typing_extensions-4.7.1\n",
            "  Attempting uninstall: sqlalchemy\n",
            "    Found existing installation: SQLAlchemy 2.0.19\n",
            "    Uninstalling SQLAlchemy-2.0.19:\n",
            "      Successfully uninstalled SQLAlchemy-2.0.19\n",
            "  Attempting uninstall: scipy\n",
            "    Found existing installation: scipy 1.10.1\n",
            "    Uninstalling scipy-1.10.1:\n",
            "      Successfully uninstalled scipy-1.10.1\n",
            "  Attempting uninstall: packaging\n",
            "    Found existing installation: packaging 23.1\n",
            "    Uninstalling packaging-23.1:\n",
            "      Successfully uninstalled packaging-23.1\n",
            "  Attempting uninstall: grpcio\n",
            "    Found existing installation: grpcio 1.56.2\n",
            "    Uninstalling grpcio-1.56.2:\n",
            "      Successfully uninstalled grpcio-1.56.2\n",
            "  Attempting uninstall: attrs\n",
            "    Found existing installation: attrs 23.1.0\n",
            "    Uninstalling attrs-23.1.0:\n",
            "      Successfully uninstalled attrs-23.1.0\n",
            "\u001b[31mERROR: pip's dependency resolver does not currently take into account all the packages that are installed. This behaviour is the source of the following dependency conflicts.\n",
            "pymc 5.1.2 requires cachetools>=4.2.1, but you have cachetools 3.1.1 which is incompatible.\u001b[0m\u001b[31m\n",
            "\u001b[0mSuccessfully installed attrs-21.4.0 cachetools-3.1.1 dp-accounting-0.4.2 farmhashpy-0.4.0 google-vizier-0.1.4 grpcio-1.48.2 grpcio-tools-1.48.2 immutabledict-2.2.5 packaging-22.0 parameterized-0.9.0 scipy-1.9.3 semantic-version-2.10.0 sqlalchemy-1.4.0 tensorflow-compression-2.12.0 tensorflow-federated-0.61.0 tensorflow-model-optimization-0.7.3 tensorflow-privacy-0.8.10 typing-extensions-4.4.0\n"
          ]
        },
        {
          "output_type": "display_data",
          "data": {
            "application/vnd.colab-display-data+json": {
              "pip_warning": {
                "packages": [
                  "attr",
                  "cachetools"
                ]
              }
            }
          },
          "metadata": {}
        }
      ]
    }
  ]
}